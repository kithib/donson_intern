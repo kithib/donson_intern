{
 "cells": [
  {
   "cell_type": "code",
   "execution_count": 1,
   "id": "2965c218-4ced-43d6-891a-0ec9b4da520e",
   "metadata": {},
   "outputs": [],
   "source": [
    "import pandas as pd\n",
    "import numpy as np\n",
    "from collections import Counter"
   ]
  },
  {
   "cell_type": "code",
   "execution_count": 8,
   "id": "0dded695-ec8a-4cf0-b0fe-3a08bf5b1011",
   "metadata": {},
   "outputs": [],
   "source": [
    "df_sum = pd.read_excel('sum1.xlsx')\n",
    "df_lingshi = pd.read_excel('lingshi.xlsx')\n",
    "df_neiyi = pd.read_excel('neiyi.xlsx')\n",
    "df_negitive = pd.read_excel('negitive.xlsx')\n",
    "df_dev = pd.read_excel('dev.xlsx')"
   ]
  },
  {
   "cell_type": "code",
   "execution_count": 9,
   "id": "5d590d90-ab90-4596-bf67-34eff5df0206",
   "metadata": {},
   "outputs": [],
   "source": [
    "data_columns = ['content_clean','len_clean']\n",
    "df_sum = df_sum[data_columns]\n",
    "df_sum.columns =['content', 'label'] "
   ]
  },
  {
   "cell_type": "code",
   "execution_count": 10,
   "id": "0e2cbd9e-a188-4414-9b4c-bf61606515aa",
   "metadata": {},
   "outputs": [],
   "source": [
    "data_columns = ['content_clean','简单营销文案']\n",
    "df_neiyi = df_neiyi[data_columns]\n",
    "df_neiyi.columns =['content', 'label'] "
   ]
  },
  {
   "cell_type": "code",
   "execution_count": 11,
   "id": "5d642c47-b7a1-4bab-9c75-dda345014680",
   "metadata": {},
   "outputs": [],
   "source": [
    "data_columns = ['content_clean','label']\n",
    "df_lingshi = df_lingshi[data_columns]\n",
    "df_lingshi.columns =['content', 'label'] "
   ]
  },
  {
   "cell_type": "code",
   "execution_count": 13,
   "id": "1d37bd5d-24b0-4671-ad47-3832e2d3f436",
   "metadata": {},
   "outputs": [
    {
     "data": {
      "text/plain": [
       "(                                                content  label\n",
       " 0     今天是护肤日 明天就要健身啦 ✨silkn 真的是我唯一的美容仪器还坚持用下来了 因为凝胶快...     73\n",
       " 1     去年买的宙斯，泪沟没了自己都不敢相信使用率可能想起来连着做几天，忘了就半个多月不做，既然有这...     57\n",
       " 2     年纪过了30+，肌肤状态明显开始走下坡路。挣扎了好久，终于狠心入手了雅萌美容仪。  收到包裹...    149\n",
       " 3     求介绍以前化妆总是很应付，卸妆更是比较随意，有时候赶紧比较累，直接带妆睡觉， 结果导致皮肤越...    208\n",
       " 4     实话实说，射频咱就得服人家以色列 妥妥射频届的老大哥！ 我人生的第一台美容仪就是tripol...    151\n",
       " ...                                                 ...    ...\n",
       " 3698  妹妹经常便秘很是苦恼 相信很多家长都有过这样的得恐慌经历 宝宝不舒服麻麻就上火 - 就是因为...    196\n",
       " 3699  孩子因为肠胀气一直吃拜奥益生菌，偶然看到有针对父母骨骼的产品，果断下单，使用一段时间发现效果...     64\n",
       " 3700  宝宝有些便秘，没想到吃了几天合生元益生菌后没再便秘就没再吃了，所以想转出。奶味和原味各一盒(...     65\n",
       " 3701  各位宝妈，我又来了， 你们家宝宝是否因为环境出现了肠胃问题。 如果已经出现了，不妨试试这一款...    116\n",
       " 3702  抱着试一试的心态，先山姆入了女性专用的小粉瓶，价格比和京东可爱，然后看到有体重管理的浅蓝瓶，...    137\n",
       " \n",
       " [3703 rows x 2 columns],\n",
       "                                                content  label\n",
       " 0    每包才100多大卡！！热量是真的低‼️ 我们寝室追剧�的时候炒喜欢吃食验室的薯片[皱眉R] ...      1\n",
       " 1    说实话我不太爱吃零食之类的东西 不过最近小伙伴给我这个薯片有点吃好 不用纠结健身之后吃什么❓...      1\n",
       " 2    逛dm在婴幼儿食品区看到这个牌子的粟米条，有玉米原味的，香蕉味的还有草莓味的    由于是给...      1\n",
       " 3    福州炸鸡�天花板  get韩剧同款炸鸡‼️‼️ \\t �招牌银粟炸鸡 招牌必点！我的最爱！整...      1\n",
       " 4    ①小红虾味：香香辣辣的，越吃越香~ ②烧烤味：烧烤味和薯片就是绝配，咸鲜香香酥酥脆脆的，伴随...      1\n",
       " ..                                                 ...    ...\n",
       " 518  今天逛盒马发现这个曲奇饼盒子巨巨巨可爱 关键是才12.9r‼️买来吃完就能做收纳盒了‼️ 还...      1\n",
       " 519  Jagabee的大部分口味我都爱，这个味道纯粹是看包装买的，我就是这么肤浅看颜值下手！ 但是...      1\n",
       " 520  �旺旺家的雪饼谁不爱哇 你说是不哇是 雪饼的配色搭配篮球结合真的很绝！ 篮球材质也是吸湿耐磨...      1\n",
       " 521  告别拖延症！本资深盒马会员终于整理出近期新宠清单！ 都是复购N次以上！！绝对良心推荐！希望永...      1\n",
       " 522  宝账号、支付宝账号密码，微信名，微信登陆密码、微信支付密码即可！快来看看你是狂飙里的谁吧！ ...      1\n",
       " \n",
       " [523 rows x 2 columns],\n",
       "                                                 content  label\n",
       " 0     这颜值多看一眼都会沦陷、交叉绑带＋精致的刺绣蕾丝杯面美到窒息[红书R][红书R][红书R] ...      1\n",
       " 1     [种草R]很轻薄显小但又不会凸点，一整个服帖，杯很深，不会晃很稳！后背是很有弹性的，包的多，...      1\n",
       " 2     小清洗波浪边 俏皮蝴蝶结 无缝贴合 上身巨舒服[萌萌哒R] 固定一体 不跑杯不移位轻松自在～...      1\n",
       " 3     好穿又舒服！！！最重要的是价格亲民！！！ 每个女孩子都要对自己好一点哦！！ 穿的舒服穿的实在...      1\n",
       " 4     我超爱蕾丝的衣物，夏天马上到了，🐻部也要好好的度过夏天，所以又新收了一款曼妮芬家的蕾丝内衣，...      1\n",
       " ...                                                 ...    ...\n",
       " 3171  人人都可以站上舞台的嘞 果姐的公演从开始到结束都大大公开 顺便分享一些好东西给大家 维密反重...      1\n",
       " 3172  出片率100%的秘密！ 五一快到啦～大家有想好去哪玩嘛！ 感觉每次出门都不知道穿什么 真的很...      1\n",
       " 3173  大家节日快乐呀～ 这是38节，我送给自己的一份精美礼物： 爱慕1993 三十周年礼盒！一套内...      1\n",
       " 3174  hello宝贝们我是麻花 今天男士止步 女士请进 敲咪咪来给姐妹们分享一下我的宝藏内衣�爱美...      1\n",
       " 3175  提前收到圣诞+新年礼物啦 每个女生都希望收到礼物 感谢小红书X蕉内的活动邀请 今天收到这个蕉...      1\n",
       " \n",
       " [3176 rows x 2 columns],\n",
       "                                                 content  label\n",
       " 0     成都高新区南门天府一街出租自住房在铁像寺水街楼上啦房子是两室一厅一卫（套二）房子整体装修保养...      1\n",
       " 1     具体见图4，七月开始可租全套，可续约，家具全包，生活用品齐全拎包入住（包括厨房用品和nesp...      1\n",
       " 2     房屋：111.5平方米，户型南北通透，三室两厅两卫，精装，满二唯一，近地铁. 21年末交付的...      1\n",
       " 3     地址：北艾路1661弄（大华锦绣华城2-2街区）  地铁：7号线杨高南路约6分钟，13号线华...      1\n",
       " 4      地铁11号线北大桥1距离 滨江 锦绣之城  4室2厅2卫出租 四叶草户型 滨江海岸系物业 ...      1\n",
       " ...                                                 ...    ...\n",
       " 7397  哇唔...这力气比吃菠菜的大力水手还厉害。弱弱问下，这线好贵吗？  哇唔...这力气比吃菠菜...      1\n",
       " 7398  最近荣耀 Magic V2 折叠屏手机已入网工信部通过 3C 认证，据说7 月登场，核心配置...      1\n",
       " 7399   dlrb “我觉得不管到什么年纪，可能人的眼神里会透露出一种沧桑感，或者经历了很多事情，很...      1\n",
       " 7400  在小红书上认识了一位叔叔，我们聊了很多也很深入，一直聊的都很好，突然有一天他说我们见一面吧，...      1\n",
       " 7401  图一图二是转完膜之后用考马斯亮蓝染色后的样子，有的转的很干净，有的胶感觉蛋白弥散，或者有蓝色...      1\n",
       " \n",
       " [7402 rows x 2 columns],\n",
       "                                                 content  label\n",
       " 0     家人们！这个春日酸奶花花太美丽了 ！\\n原来用的是安慕希AMX长白山蓝莓酸奶\\n来自长白山直...      0\n",
       " 1     粉水比例1：25，按这个比例口感Q弹不生硬，加在微醺果汁酒里清爽解腻～ 微醺攻略 元气森林白...      0\n",
       " 2     特种兵椰汁改名升级后的苏萨三代目椰汁，味道和包装都更新了，越来越爱了！！\\n生榨椰汁+NFC...      0\n",
       " 3     我的推广～ 春日来信可随身携带的低脂茉莉香 入口清甜，尾调是很浓的茉莉花香，本茉莉花爱好者真...      0\n",
       " 4     最近吃辣的吃太多啦，今天吃点零食缓缓  00:03  鱿鱼卷  00:19  奶酥卷  01...      0\n",
       " ...                                                 ...    ...\n",
       " 2037  【产业链人士：华为上调2023年手机出货量目标至4000万部】6月11日， 记者从产业链人士...      1\n",
       " 2038  维多利亚的秘密今日发布了2023年第一季度的财务业绩报告。据该财报显示，维密2023年第一季...      1\n",
       " 2039  【浪味仙失败案例剖析：创始人被捕入狱】 曾以“浪胃仙IP创始人”身份声讨“浪胃仙”过河拆桥、...      1\n",
       " 2040  【据红星新闻，近日，千万网红小慧君被封号引发网友热议，疑似因不履行法院判决内容。2020年1...      1\n",
       " 2041  lofter强推文豪野犬大腿连续剧（完结）很搞笑又很苏爽，不仅做过森先生手下，还被绑架去了侦...      1\n",
       " \n",
       " [2042 rows x 2 columns])"
      ]
     },
     "execution_count": 13,
     "metadata": {},
     "output_type": "execute_result"
    }
   ],
   "source": [
    "df_sum,df_lingshi,df_neiyi,df_negitive,df_dev"
   ]
  },
  {
   "cell_type": "markdown",
   "id": "1d48229e-4c3e-4d79-bdf5-449fdb2a81e0",
   "metadata": {},
   "source": [
    "for i in range(int(df_0801.shape[0])):\n",
    "    if df_0801.iloc[i,4].find(\"xiaohongshu\") != -1:\n",
    "        df_0801.iloc[i,4] = 1013\n",
    "    elif df_0801.iloc[i,4].find(\"weibo\") != -1:\n",
    "        df_0801.iloc[i,4] = 1027\n",
    "    else:\n",
    "        df_0801.iloc[i,4] = -1\n",
    "df_0801.drop(df_0801[df_0801['share_url'] == -1 ].index, inplace=True)\n",
    "df_0801"
   ]
  },
  {
   "cell_type": "markdown",
   "id": "6b6ae6df-3408-4640-b13d-9c6c111c6e4a",
   "metadata": {},
   "source": [
    "data_columns = ['share_url','content' , 'label' ]\n",
    "df_data_0801 = df_0801[data_columns]\n",
    "df_data_0801.columns =['platform',\"content\", \"label\"] \n",
    "df_data_0801"
   ]
  },
  {
   "cell_type": "markdown",
   "id": "5d950caa-f1eb-48cc-8b3f-0161f14cd230",
   "metadata": {},
   "source": [
    "df_data_0710.drop(df_data_0710[df_data_0710['label'] == -1 ].index, inplace=True)\n",
    "df_data_0727.drop(df_data_0727[df_data_0727['label'] == -1 ].index, inplace=True)\n",
    "df_data_0801.drop(df_data_0801[df_data_0801['label'] == -1 ].index, inplace=True)"
   ]
  },
  {
   "cell_type": "code",
   "execution_count": 14,
   "id": "8a2e5bd8-63e9-4086-b2de-c496a87771e0",
   "metadata": {},
   "outputs": [
    {
     "data": {
      "text/html": [
       "<div>\n",
       "<style scoped>\n",
       "    .dataframe tbody tr th:only-of-type {\n",
       "        vertical-align: middle;\n",
       "    }\n",
       "\n",
       "    .dataframe tbody tr th {\n",
       "        vertical-align: top;\n",
       "    }\n",
       "\n",
       "    .dataframe thead th {\n",
       "        text-align: right;\n",
       "    }\n",
       "</style>\n",
       "<table border=\"1\" class=\"dataframe\">\n",
       "  <thead>\n",
       "    <tr style=\"text-align: right;\">\n",
       "      <th></th>\n",
       "      <th>content</th>\n",
       "      <th>label</th>\n",
       "    </tr>\n",
       "  </thead>\n",
       "  <tbody>\n",
       "    <tr>\n",
       "      <th>0</th>\n",
       "      <td>今天是护肤日 明天就要健身啦 ✨silkn 真的是我唯一的美容仪器还坚持用下来了 因为凝胶快...</td>\n",
       "      <td>0</td>\n",
       "    </tr>\n",
       "    <tr>\n",
       "      <th>1</th>\n",
       "      <td>去年买的宙斯，泪沟没了自己都不敢相信使用率可能想起来连着做几天，忘了就半个多月不做，既然有这...</td>\n",
       "      <td>0</td>\n",
       "    </tr>\n",
       "    <tr>\n",
       "      <th>2</th>\n",
       "      <td>年纪过了30+，肌肤状态明显开始走下坡路。挣扎了好久，终于狠心入手了雅萌美容仪。  收到包裹...</td>\n",
       "      <td>0</td>\n",
       "    </tr>\n",
       "    <tr>\n",
       "      <th>3</th>\n",
       "      <td>求介绍以前化妆总是很应付，卸妆更是比较随意，有时候赶紧比较累，直接带妆睡觉， 结果导致皮肤越...</td>\n",
       "      <td>0</td>\n",
       "    </tr>\n",
       "    <tr>\n",
       "      <th>4</th>\n",
       "      <td>实话实说，射频咱就得服人家以色列 妥妥射频届的老大哥！ 我人生的第一台美容仪就是tripol...</td>\n",
       "      <td>0</td>\n",
       "    </tr>\n",
       "    <tr>\n",
       "      <th>...</th>\n",
       "      <td>...</td>\n",
       "      <td>...</td>\n",
       "    </tr>\n",
       "    <tr>\n",
       "      <th>3171</th>\n",
       "      <td>人人都可以站上舞台的嘞 果姐的公演从开始到结束都大大公开 顺便分享一些好东西给大家 维密反重...</td>\n",
       "      <td>0</td>\n",
       "    </tr>\n",
       "    <tr>\n",
       "      <th>3172</th>\n",
       "      <td>出片率100%的秘密！ 五一快到啦～大家有想好去哪玩嘛！ 感觉每次出门都不知道穿什么 真的很...</td>\n",
       "      <td>0</td>\n",
       "    </tr>\n",
       "    <tr>\n",
       "      <th>3173</th>\n",
       "      <td>大家节日快乐呀～ 这是38节，我送给自己的一份精美礼物： 爱慕1993 三十周年礼盒！一套内...</td>\n",
       "      <td>0</td>\n",
       "    </tr>\n",
       "    <tr>\n",
       "      <th>3174</th>\n",
       "      <td>hello宝贝们我是麻花 今天男士止步 女士请进 敲咪咪来给姐妹们分享一下我的宝藏内衣�爱美...</td>\n",
       "      <td>0</td>\n",
       "    </tr>\n",
       "    <tr>\n",
       "      <th>3175</th>\n",
       "      <td>提前收到圣诞+新年礼物啦 每个女生都希望收到礼物 感谢小红书X蕉内的活动邀请 今天收到这个蕉...</td>\n",
       "      <td>0</td>\n",
       "    </tr>\n",
       "  </tbody>\n",
       "</table>\n",
       "<p>7402 rows × 2 columns</p>\n",
       "</div>"
      ],
      "text/plain": [
       "                                                content  label\n",
       "0     今天是护肤日 明天就要健身啦 ✨silkn 真的是我唯一的美容仪器还坚持用下来了 因为凝胶快...      0\n",
       "1     去年买的宙斯，泪沟没了自己都不敢相信使用率可能想起来连着做几天，忘了就半个多月不做，既然有这...      0\n",
       "2     年纪过了30+，肌肤状态明显开始走下坡路。挣扎了好久，终于狠心入手了雅萌美容仪。  收到包裹...      0\n",
       "3     求介绍以前化妆总是很应付，卸妆更是比较随意，有时候赶紧比较累，直接带妆睡觉， 结果导致皮肤越...      0\n",
       "4     实话实说，射频咱就得服人家以色列 妥妥射频届的老大哥！ 我人生的第一台美容仪就是tripol...      0\n",
       "...                                                 ...    ...\n",
       "3171  人人都可以站上舞台的嘞 果姐的公演从开始到结束都大大公开 顺便分享一些好东西给大家 维密反重...      0\n",
       "3172  出片率100%的秘密！ 五一快到啦～大家有想好去哪玩嘛！ 感觉每次出门都不知道穿什么 真的很...      0\n",
       "3173  大家节日快乐呀～ 这是38节，我送给自己的一份精美礼物： 爱慕1993 三十周年礼盒！一套内...      0\n",
       "3174  hello宝贝们我是麻花 今天男士止步 女士请进 敲咪咪来给姐妹们分享一下我的宝藏内衣�爱美...      0\n",
       "3175  提前收到圣诞+新年礼物啦 每个女生都希望收到礼物 感谢小红书X蕉内的活动邀请 今天收到这个蕉...      0\n",
       "\n",
       "[7402 rows x 2 columns]"
      ]
     },
     "execution_count": 14,
     "metadata": {},
     "output_type": "execute_result"
    }
   ],
   "source": [
    "frames = [df_sum, df_lingshi,df_neiyi]\n",
    "df_all = pd.concat(frames) \n",
    "for i in range(int(df_all.shape[0])):\n",
    "    df_all.iloc[i,1] = 0\n",
    "    df_all.iloc[i,0] = str(df_all.iloc[i,0]).replace('\\t','')\n",
    "    df_all.iloc[i,0] = str(df_all.iloc[i,0]).replace('\\n','')\n",
    "df_all"
   ]
  },
  {
   "cell_type": "code",
   "execution_count": 15,
   "id": "71a29695-00f5-4b72-b42f-3b288aeb288b",
   "metadata": {},
   "outputs": [
    {
     "data": {
      "text/html": [
       "<div>\n",
       "<style scoped>\n",
       "    .dataframe tbody tr th:only-of-type {\n",
       "        vertical-align: middle;\n",
       "    }\n",
       "\n",
       "    .dataframe tbody tr th {\n",
       "        vertical-align: top;\n",
       "    }\n",
       "\n",
       "    .dataframe thead th {\n",
       "        text-align: right;\n",
       "    }\n",
       "</style>\n",
       "<table border=\"1\" class=\"dataframe\">\n",
       "  <thead>\n",
       "    <tr style=\"text-align: right;\">\n",
       "      <th></th>\n",
       "      <th>content</th>\n",
       "      <th>label</th>\n",
       "    </tr>\n",
       "  </thead>\n",
       "  <tbody>\n",
       "    <tr>\n",
       "      <th>0</th>\n",
       "      <td>今天是护肤日 明天就要健身啦 ✨silkn 真的是我唯一的美容仪器还坚持用下来了 因为凝胶快...</td>\n",
       "      <td>0</td>\n",
       "    </tr>\n",
       "    <tr>\n",
       "      <th>1</th>\n",
       "      <td>去年买的宙斯，泪沟没了自己都不敢相信使用率可能想起来连着做几天，忘了就半个多月不做，既然有这...</td>\n",
       "      <td>0</td>\n",
       "    </tr>\n",
       "    <tr>\n",
       "      <th>2</th>\n",
       "      <td>年纪过了30+，肌肤状态明显开始走下坡路。挣扎了好久，终于狠心入手了雅萌美容仪。  收到包裹...</td>\n",
       "      <td>0</td>\n",
       "    </tr>\n",
       "    <tr>\n",
       "      <th>3</th>\n",
       "      <td>求介绍以前化妆总是很应付，卸妆更是比较随意，有时候赶紧比较累，直接带妆睡觉， 结果导致皮肤越...</td>\n",
       "      <td>0</td>\n",
       "    </tr>\n",
       "    <tr>\n",
       "      <th>4</th>\n",
       "      <td>实话实说，射频咱就得服人家以色列 妥妥射频届的老大哥！ 我人生的第一台美容仪就是tripol...</td>\n",
       "      <td>0</td>\n",
       "    </tr>\n",
       "    <tr>\n",
       "      <th>...</th>\n",
       "      <td>...</td>\n",
       "      <td>...</td>\n",
       "    </tr>\n",
       "    <tr>\n",
       "      <th>7397</th>\n",
       "      <td>哇唔...这力气比吃菠菜的大力水手还厉害。弱弱问下，这线好贵吗？  哇唔...这力气比吃菠菜...</td>\n",
       "      <td>1</td>\n",
       "    </tr>\n",
       "    <tr>\n",
       "      <th>7398</th>\n",
       "      <td>最近荣耀 Magic V2 折叠屏手机已入网工信部通过 3C 认证，据说7 月登场，核心配置...</td>\n",
       "      <td>1</td>\n",
       "    </tr>\n",
       "    <tr>\n",
       "      <th>7399</th>\n",
       "      <td>dlrb “我觉得不管到什么年纪，可能人的眼神里会透露出一种沧桑感，或者经历了很多事情，很...</td>\n",
       "      <td>1</td>\n",
       "    </tr>\n",
       "    <tr>\n",
       "      <th>7400</th>\n",
       "      <td>在小红书上认识了一位叔叔，我们聊了很多也很深入，一直聊的都很好，突然有一天他说我们见一面吧，...</td>\n",
       "      <td>1</td>\n",
       "    </tr>\n",
       "    <tr>\n",
       "      <th>7401</th>\n",
       "      <td>图一图二是转完膜之后用考马斯亮蓝染色后的样子，有的转的很干净，有的胶感觉蛋白弥散，或者有蓝色...</td>\n",
       "      <td>1</td>\n",
       "    </tr>\n",
       "  </tbody>\n",
       "</table>\n",
       "<p>14804 rows × 2 columns</p>\n",
       "</div>"
      ],
      "text/plain": [
       "                                                content  label\n",
       "0     今天是护肤日 明天就要健身啦 ✨silkn 真的是我唯一的美容仪器还坚持用下来了 因为凝胶快...      0\n",
       "1     去年买的宙斯，泪沟没了自己都不敢相信使用率可能想起来连着做几天，忘了就半个多月不做，既然有这...      0\n",
       "2     年纪过了30+，肌肤状态明显开始走下坡路。挣扎了好久，终于狠心入手了雅萌美容仪。  收到包裹...      0\n",
       "3     求介绍以前化妆总是很应付，卸妆更是比较随意，有时候赶紧比较累，直接带妆睡觉， 结果导致皮肤越...      0\n",
       "4     实话实说，射频咱就得服人家以色列 妥妥射频届的老大哥！ 我人生的第一台美容仪就是tripol...      0\n",
       "...                                                 ...    ...\n",
       "7397  哇唔...这力气比吃菠菜的大力水手还厉害。弱弱问下，这线好贵吗？  哇唔...这力气比吃菠菜...      1\n",
       "7398  最近荣耀 Magic V2 折叠屏手机已入网工信部通过 3C 认证，据说7 月登场，核心配置...      1\n",
       "7399   dlrb “我觉得不管到什么年纪，可能人的眼神里会透露出一种沧桑感，或者经历了很多事情，很...      1\n",
       "7400  在小红书上认识了一位叔叔，我们聊了很多也很深入，一直聊的都很好，突然有一天他说我们见一面吧，...      1\n",
       "7401  图一图二是转完膜之后用考马斯亮蓝染色后的样子，有的转的很干净，有的胶感觉蛋白弥散，或者有蓝色...      1\n",
       "\n",
       "[14804 rows x 2 columns]"
      ]
     },
     "execution_count": 15,
     "metadata": {},
     "output_type": "execute_result"
    }
   ],
   "source": [
    "frames = [df_all, df_negitive]\n",
    "df_train = pd.concat(frames) \n",
    "df_train "
   ]
  },
  {
   "cell_type": "code",
   "execution_count": 16,
   "id": "85e7aff9-ad16-4cb7-a195-42e61090d2dd",
   "metadata": {},
   "outputs": [
    {
     "data": {
      "text/html": [
       "<div>\n",
       "<style scoped>\n",
       "    .dataframe tbody tr th:only-of-type {\n",
       "        vertical-align: middle;\n",
       "    }\n",
       "\n",
       "    .dataframe tbody tr th {\n",
       "        vertical-align: top;\n",
       "    }\n",
       "\n",
       "    .dataframe thead th {\n",
       "        text-align: right;\n",
       "    }\n",
       "</style>\n",
       "<table border=\"1\" class=\"dataframe\">\n",
       "  <thead>\n",
       "    <tr style=\"text-align: right;\">\n",
       "      <th></th>\n",
       "      <th>content</th>\n",
       "      <th>label</th>\n",
       "    </tr>\n",
       "  </thead>\n",
       "  <tbody>\n",
       "    <tr>\n",
       "      <th>0</th>\n",
       "      <td>家人们！这个春日酸奶花花太美丽了 ！\\n原来用的是安慕希AMX长白山蓝莓酸奶\\n来自长白山直...</td>\n",
       "      <td>0</td>\n",
       "    </tr>\n",
       "    <tr>\n",
       "      <th>1</th>\n",
       "      <td>粉水比例1：25，按这个比例口感Q弹不生硬，加在微醺果汁酒里清爽解腻～ 微醺攻略 元气森林白...</td>\n",
       "      <td>0</td>\n",
       "    </tr>\n",
       "    <tr>\n",
       "      <th>2</th>\n",
       "      <td>特种兵椰汁改名升级后的苏萨三代目椰汁，味道和包装都更新了，越来越爱了！！\\n生榨椰汁+NFC...</td>\n",
       "      <td>0</td>\n",
       "    </tr>\n",
       "    <tr>\n",
       "      <th>3</th>\n",
       "      <td>我的推广～ 春日来信可随身携带的低脂茉莉香 入口清甜，尾调是很浓的茉莉花香，本茉莉花爱好者真...</td>\n",
       "      <td>0</td>\n",
       "    </tr>\n",
       "    <tr>\n",
       "      <th>4</th>\n",
       "      <td>最近吃辣的吃太多啦，今天吃点零食缓缓  00:03  鱿鱼卷  00:19  奶酥卷  01...</td>\n",
       "      <td>0</td>\n",
       "    </tr>\n",
       "    <tr>\n",
       "      <th>...</th>\n",
       "      <td>...</td>\n",
       "      <td>...</td>\n",
       "    </tr>\n",
       "    <tr>\n",
       "      <th>2037</th>\n",
       "      <td>【产业链人士：华为上调2023年手机出货量目标至4000万部】6月11日， 记者从产业链人士...</td>\n",
       "      <td>1</td>\n",
       "    </tr>\n",
       "    <tr>\n",
       "      <th>2038</th>\n",
       "      <td>维多利亚的秘密今日发布了2023年第一季度的财务业绩报告。据该财报显示，维密2023年第一季...</td>\n",
       "      <td>1</td>\n",
       "    </tr>\n",
       "    <tr>\n",
       "      <th>2039</th>\n",
       "      <td>【浪味仙失败案例剖析：创始人被捕入狱】 曾以“浪胃仙IP创始人”身份声讨“浪胃仙”过河拆桥、...</td>\n",
       "      <td>1</td>\n",
       "    </tr>\n",
       "    <tr>\n",
       "      <th>2040</th>\n",
       "      <td>【据红星新闻，近日，千万网红小慧君被封号引发网友热议，疑似因不履行法院判决内容。2020年1...</td>\n",
       "      <td>1</td>\n",
       "    </tr>\n",
       "    <tr>\n",
       "      <th>2041</th>\n",
       "      <td>lofter强推文豪野犬大腿连续剧（完结）很搞笑又很苏爽，不仅做过森先生手下，还被绑架去了侦...</td>\n",
       "      <td>1</td>\n",
       "    </tr>\n",
       "  </tbody>\n",
       "</table>\n",
       "<p>2042 rows × 2 columns</p>\n",
       "</div>"
      ],
      "text/plain": [
       "                                                content  label\n",
       "0     家人们！这个春日酸奶花花太美丽了 ！\\n原来用的是安慕希AMX长白山蓝莓酸奶\\n来自长白山直...      0\n",
       "1     粉水比例1：25，按这个比例口感Q弹不生硬，加在微醺果汁酒里清爽解腻～ 微醺攻略 元气森林白...      0\n",
       "2     特种兵椰汁改名升级后的苏萨三代目椰汁，味道和包装都更新了，越来越爱了！！\\n生榨椰汁+NFC...      0\n",
       "3     我的推广～ 春日来信可随身携带的低脂茉莉香 入口清甜，尾调是很浓的茉莉花香，本茉莉花爱好者真...      0\n",
       "4     最近吃辣的吃太多啦，今天吃点零食缓缓  00:03  鱿鱼卷  00:19  奶酥卷  01...      0\n",
       "...                                                 ...    ...\n",
       "2037  【产业链人士：华为上调2023年手机出货量目标至4000万部】6月11日， 记者从产业链人士...      1\n",
       "2038  维多利亚的秘密今日发布了2023年第一季度的财务业绩报告。据该财报显示，维密2023年第一季...      1\n",
       "2039  【浪味仙失败案例剖析：创始人被捕入狱】 曾以“浪胃仙IP创始人”身份声讨“浪胃仙”过河拆桥、...      1\n",
       "2040  【据红星新闻，近日，千万网红小慧君被封号引发网友热议，疑似因不履行法院判决内容。2020年1...      1\n",
       "2041  lofter强推文豪野犬大腿连续剧（完结）很搞笑又很苏爽，不仅做过森先生手下，还被绑架去了侦...      1\n",
       "\n",
       "[2042 rows x 2 columns]"
      ]
     },
     "execution_count": 16,
     "metadata": {},
     "output_type": "execute_result"
    }
   ],
   "source": [
    "df_test = df_dev\n",
    "df_test"
   ]
  },
  {
   "cell_type": "markdown",
   "id": "bac52d35-d2e9-4905-bab9-7fe359209361",
   "metadata": {},
   "source": [
    "def count_elements(col):\n",
    "    return pd.Series(Counter(col))\n",
    "# 对每列应用count_elements函数并汇总结果\n",
    "counts = df_all.apply(count_elements, axis=0)\n",
    "# 输出结果\n",
    "print(counts)\n",
    "# 对每列应用count_elements函数并汇总结果\n",
    "counts = df_test.apply(count_elements, axis=0)\n",
    "# 输出结果\n",
    "print(counts)"
   ]
  },
  {
   "cell_type": "code",
   "execution_count": 25,
   "id": "5f2ff839-1a99-4cd8-8116-df1af860b127",
   "metadata": {},
   "outputs": [],
   "source": [
    "for i in range(int(df_train.shape[0])):\n",
    "    df_train.iloc[i,0] = str(df_train.iloc[i,0]).replace('\\t','')\n",
    "    df_train.iloc[i,0] = str(df_train.iloc[i,0]).replace('\\n','')\n",
    "    df_train.iloc[i,0] = str(df_train.iloc[i,0]).replace(' ','')\n",
    "for i in range(int(df_test.shape[0])):\n",
    "    df_test.iloc[i,0] = str(df_test.iloc[i,0]).replace('\\t','')\n",
    "    df_test.iloc[i,0] = str(df_test.iloc[i,0]).replace('\\n','')\n",
    "    df_test.iloc[i,0] = str(df_test.iloc[i,0]).replace(' ','')"
   ]
  },
  {
   "cell_type": "code",
   "execution_count": 26,
   "id": "85111910-ea37-4ea8-a794-72920aee9060",
   "metadata": {},
   "outputs": [],
   "source": [
    "df_train = df_train.sample(frac=1).reset_index(drop=True)  \n",
    "df_test = df_test.sample(frac=1).reset_index(drop=True)  "
   ]
  },
  {
   "cell_type": "code",
   "execution_count": 27,
   "id": "e55aecd3-9be9-4652-b823-72bbec32890e",
   "metadata": {},
   "outputs": [
    {
     "data": {
      "text/plain": [
       "(                                                 content label\n",
       " 0      易烊千玺你就像那时光里走出来的美男子yyqxyyqxyyqx‌易烊千玺易烊千玺粉丝易烊千玺牛...     1\n",
       " 1      为啥81岁的巴菲特和86岁的芒格在会上一讲就是6个小时？因为投资和当运动员最大的不同是受体力...     1\n",
       " 2      WonderlabKids益生菌儿科专家推荐4株婴幼儿可食用菌株2大优质益生元黄金组合每瓶2...     0\n",
       " 3      品牌名称：泡泡玛特创始人：王宁总部：北京品牌使命：“创造潮流、传递美好。Tolightupp...     1\n",
       " 4      美容仪高端玩家局～丝可美容仪真的牛元气丸爸妈60多啦，重衰肌上脸展示❗️❗️你们的垮脸❓下颚...     0\n",
       " ...                                                  ...   ...\n",
       " 14799  为什么top是陈路周呢看热恋最多的感受就是空虚总觉得像陈路周这样风光霁月的男生是生活里真真实...     1\n",
       " 14800  今天身上这款内衣是桑扶兰05，非常适合我们这种大�姐妹。因为她们家主打的是大�显小的效果，大...     0\n",
       " 14801  辣妹必备！[生气R][派对R][派对R]精致的包装盒！作为字母边设计的内衣鼻祖必属CK了[赞...     0\n",
       " 14802  这个颜色我真的太爱啦！敲显白！软钢圈的设计微收副乳贴合🐻部下摆有八根软骨hin性感也舒服二分...     0\n",
       " 14803  cy成毅，我不过是慕光而来，最黑暗的日子都是你自己走过来的，以后不会再有黑暗了。你应该有自己...     1\n",
       " \n",
       " [14804 rows x 2 columns],\n",
       "                                                 content label\n",
       " 0     个人觉得牙齿整洁挺重要，所以平时很注重牙齿的护理，这里分享下个人用过觉得很好用的几样好物:✨...     0\n",
       " 1     细雨纷纷碧草长，赶制春茗待客尝。-春日的下午茶，都透着欢喜和闲适。而我今天要去体验一场特别的...     0\n",
       " 2     今年的春节有点特别，因为口罩问题放开，各种病D接踵而来，之前是发烧，浑身疼，听说最近又出了让...     0\n",
       " 3     【出租】静安区长寿路999弄达安花园55号楼紧靠悦达889【户型】3房2厅2卫，140平，2...     1\n",
       " 4     每次看到Jennie的CK大片都惊叹，她简直是慵懒氛围感的代言人，散发着松弛自信的态度。自信...     0\n",
       " ...                                                 ...   ...\n",
       " 2037  ①小红虾味：香香辣辣的，越吃越香~②烧烤味：烧烤味和薯片就是绝配，咸鲜香香酥酥脆脆的，伴随着...     0\n",
       " 2038  马上快过年啦～妈妈辛苦一整年我给她准备了几件抗老好物妈妈也很爱美哦～珂润润浸保湿水乳(组合装...     0\n",
       " 2039  2023年马上就要到啦，过年聚会赶快露一手??马住这万金油百搭的调酒公式简单到看看就会的特调...     0\n",
       " 2040  在靠搭续命的日常，快乐都是搭子给的~带大家来认识认识阿斐的各个搭子好友们，一起领搭子好礼！搭...     0\n",
       " 2041  和闺蜜想找个地方吃吃喝喝，好好聊聊天。我们选了半天最后来了水裹+。之前去过四惠的水裹。这里是...     0\n",
       " \n",
       " [2042 rows x 2 columns])"
      ]
     },
     "execution_count": 27,
     "metadata": {},
     "output_type": "execute_result"
    }
   ],
   "source": [
    "df_train , df_test"
   ]
  },
  {
   "cell_type": "markdown",
   "id": "5cc7d6a9-38d4-428f-a539-1fb86efab2b9",
   "metadata": {},
   "source": [
    "df_weibo_train = pd.DataFrame(columns=['platform', 'content', 'label'])\n",
    "df_xiaohongshu_train = pd.DataFrame(columns=['platform', 'content', 'label'])\n",
    "df_weibo_test = pd.DataFrame(columns=['platform', 'content', 'label'])\n",
    "df_xiaohongshu_test = pd.DataFrame(columns=['platform', 'content', 'label'])"
   ]
  },
  {
   "cell_type": "markdown",
   "id": "72ba6a65-ac31-4d8f-90b6-039157ffb12a",
   "metadata": {},
   "source": [
    "for i in range(int(df_train.shape[0])):\n",
    "    if int(df_train.iloc[i,0]) == 1013:\n",
    "        new_row = pd.Series({'platform':df_train.iloc[i,0],'content':df_train.iloc[i,1],'label':df_train.iloc[i,2]})\n",
    "        df_weibo_train = df_weibo_train._append(new_row , ignore_index = True)\n",
    "    elif int(df_train.iloc[i,0]) == 1027:\n",
    "        new_row = pd.Series({'platform':df_train.iloc[i,0],'content':df_train.iloc[i,1],'label':df_train.iloc[i,2]})\n",
    "        df_xiaohongshu_train = df_xiaohongshu_train._append(new_row , ignore_index = True)\n",
    "for i in range(int(df_test.shape[0])):\n",
    "    if int(df_test.iloc[i,0]) == 1013:\n",
    "        new_row = pd.Series({'platform':df_test.iloc[i,0],'content':df_test.iloc[i,1],'label':df_test.iloc[i,2]})\n",
    "        df_weibo_test = df_weibo_test._append(new_row , ignore_index = True)\n",
    "    elif int(df_test.iloc[i,0]) == 1027:\n",
    "        new_row = pd.Series({'platform':df_test.iloc[i,0],'content':df_test.iloc[i,1],'label':df_test.iloc[i,2]})\n",
    "        df_xiaohongshu_test = df_xiaohongshu_test._append(new_row , ignore_index = True)"
   ]
  },
  {
   "cell_type": "markdown",
   "id": "453adc52-1201-4b5c-b3ba-9eb5bac78416",
   "metadata": {
    "scrolled": true
   },
   "source": [
    "df_weibo_train.drop_duplicates(subset=['content'],keep='first',inplace=True)\n",
    "df_xiaohongshu_train.drop_duplicates(subset=['content'],keep='first',inplace=True)\n",
    "df_weibo_test.drop_duplicates(subset=['content'],keep='first',inplace=True)\n",
    "df_xiaohongshu_test.drop_duplicates(subset=['content'],keep='first',inplace=True)"
   ]
  },
  {
   "cell_type": "markdown",
   "id": "c3f6842d-5db5-4939-9074-913987a122d4",
   "metadata": {},
   "source": [
    "frames = [df_xiaohongshu_train, df_xiaohongshu_test]\n",
    "df_xiaohongshu = pd.concat(frames) \n",
    "df_xiaohongshu.drop_duplicates(subset=['content'],keep='first',inplace=True)\n",
    "df_xiaohongshu"
   ]
  },
  {
   "cell_type": "markdown",
   "id": "934bc2e3-6754-451c-8f67-9178b1a62774",
   "metadata": {},
   "source": [
    "frames = [df_weibo_train, df_weibo_test]\n",
    "df_weibo = pd.concat(frames) \n",
    "df_weibo.drop_duplicates(subset=['content'],keep='first',inplace=True)\n",
    "df_weibo"
   ]
  },
  {
   "cell_type": "markdown",
   "id": "0f1afcc1-2e05-490e-bf0b-6fccc6fe567f",
   "metadata": {},
   "source": [
    "np.random.seed(seed=2)\n",
    "df_xiaohongshu_train = df_xiaohongshu.sample(frac=0.7)\n",
    "df_weibo_train = df_weibo.sample(frac=0.7)\n",
    "df_xiaohongshu_test = df_xiaohongshu.drop(df_xiaohongshu_train.index,axis=0)\n",
    "df_weibo_test = df_weibo.drop(df_weibo_train.index,axis=0)"
   ]
  },
  {
   "cell_type": "markdown",
   "id": "468dc8f8-3ce2-46b9-8d9c-e636ca3ca1be",
   "metadata": {},
   "source": [
    "data_columns = ['content' , 'label' ]\n",
    "df_weibo_train = df_weibo_train[data_columns]\n",
    "df_xiaohongshu_train = df_xiaohongshu_train[data_columns]\n",
    "df_weibo_test = df_weibo_test[data_columns]\n",
    "df_xiaohongshu_test = df_xiaohongshu_test[data_columns]"
   ]
  },
  {
   "cell_type": "markdown",
   "id": "6ba9b485-ccf3-4aa5-9057-4a66f53e666f",
   "metadata": {},
   "source": [
    "df_weibo_train = df_weibo_train.reset_index(drop = True)\n",
    "df_xiaohongshu_train = df_xiaohongshu_train.reset_index(drop = True)\n",
    "df_weibo_test = df_weibo_test.reset_index(drop = True)\n",
    "df_xiaohongshu_test = df_xiaohongshu_test.reset_index(drop = True)"
   ]
  },
  {
   "cell_type": "markdown",
   "id": "947c5ce2-17e9-46e3-bcfb-7ed675a9ca2e",
   "metadata": {},
   "source": [
    "frames = [df_weibo_train, df_xiaohongshu_train]\n",
    "df_all_train = pd.concat(frames)\n",
    "frames = [df_weibo_test, df_xiaohongshu_test]\n",
    "df_all_test = pd.concat(frames)"
   ]
  },
  {
   "cell_type": "markdown",
   "id": "9d0062be-0565-4b3a-bce3-0e9f3f1b5c32",
   "metadata": {},
   "source": [
    "# 对每列应用count_elements函数并汇总结果 active = 77%\n",
    "counts = df_weibo_train.apply(count_elements, axis=0)\n",
    "# 输出结果\n",
    "print(counts)"
   ]
  },
  {
   "cell_type": "markdown",
   "id": "24478130-7ef0-40fe-a811-727f265079bc",
   "metadata": {},
   "source": [
    "# 对每列应用count_elements函数并汇总结果 active = 72%\n",
    "counts = df_xiaohongshu_train.apply(count_elements, axis=0)\n",
    "# 输出结果\n",
    "print(counts)"
   ]
  },
  {
   "cell_type": "markdown",
   "id": "f13f7319-f99d-440b-adb3-bc9ca24edde7",
   "metadata": {},
   "source": [
    "# 对每列应用count_elements函数并汇总结果 active = 78%\n",
    "counts = df_weibo_test.apply(count_elements, axis=0)\n",
    "# 输出结果\n",
    "print(counts)"
   ]
  },
  {
   "cell_type": "markdown",
   "id": "e153a0a1-c4d0-42a6-8e2a-0726688ede04",
   "metadata": {},
   "source": [
    "# 对每列应用count_elements函数并汇总结果  active = 73%\n",
    "counts = df_xiaohongshu_test.apply(count_elements, axis=0)\n",
    "# 输出结果\n",
    "print(counts)"
   ]
  },
  {
   "cell_type": "markdown",
   "id": "aa920011-c5fc-4752-a8a3-aeb47d6e49a2",
   "metadata": {},
   "source": [
    "# 对每列应用count_elements函数并汇总结果  active = 74%\n",
    "counts = df_all_train.apply(count_elements, axis=0)\n",
    "# 输出结果\n",
    "print(counts)"
   ]
  },
  {
   "cell_type": "markdown",
   "id": "f20a9c57-82ea-4ac2-94ee-abd11a36a6e7",
   "metadata": {},
   "source": [
    "# 对每列应用count_elements函数并汇总结果  active = 76%\n",
    "counts = df_all_test.apply(count_elements, axis=0)\n",
    "# 输出结果\n",
    "print(counts)"
   ]
  },
  {
   "cell_type": "markdown",
   "id": "6daf4c0c-934e-45e8-a278-502ea39d0765",
   "metadata": {},
   "source": [
    "#构建均衡数据集\n",
    "grouped = df_all_train.groupby('label')\n",
    "sampled = grouped.apply(lambda x: x.sample(n=2582))\n",
    "df_balance_train = sampled.sample(frac=1).reset_index(drop=True)\n",
    "df_balance_train1 = df_balance_train"
   ]
  },
  {
   "cell_type": "markdown",
   "id": "8f943cc3-c0f0-4a73-82f1-bd2977717a4d",
   "metadata": {},
   "source": [
    "#构建均衡数据集\n",
    "grouped = df_all_test.groupby('label')\n",
    "sampled = grouped.apply(lambda x: x.sample(n=522))\n",
    "df_balance_test = sampled.sample(frac=1).reset_index(drop=True)\n",
    "df_balance_test1 = df_balance_test"
   ]
  },
  {
   "cell_type": "markdown",
   "id": "2020abe6-3664-4f2c-aae3-07cedcf67329",
   "metadata": {},
   "source": [
    "df_balance = pd.concat([df_balance_train,df_balance_test])\n",
    "df_balance_train = df_balance.sample(frac=0.7)\n",
    "df_balance_test = df_balance.drop(df_balance_train.index,axis=0)"
   ]
  },
  {
   "cell_type": "markdown",
   "id": "bd806c70-31d5-43ff-b6b5-207a13b58072",
   "metadata": {},
   "source": [
    "df_weibo_train,df_xiaohongshu_train,df_weibo_test,df_xiaohongshu_test,df_all_train,df_all_test,df_balance_train,df_balance_test,df_balance_train1,df_balance_test1"
   ]
  },
  {
   "cell_type": "markdown",
   "id": "3d9516a6-ea8d-4fe1-963e-ee2b0f5a8d94",
   "metadata": {},
   "source": [
    "df_weibo_train,df_xiaohongshu_train,df_weibo_test,df_xiaohongshu_test,df_all_train,df_all_test\n",
    "df_weibo_train.to_csv('train_weibo.txt', header=None, sep='\\t', index=False)\n",
    "df_xiaohongshu_train.to_csv('train_xiaohongshu.txt', header=None, sep='\\t', index=False)\n",
    "df_weibo_test.to_csv('test_weibo.txt', header=None, sep='\\t', index=False)\n",
    "df_xiaohongshu_test.to_csv('test_xiaohongshu.txt', header=None, sep='\\t', index=False)\n",
    "df_all_train.to_csv('train_all.txt', header=None, sep='\\t', index=False)\n",
    "df_all_test.to_csv('test_all.txt', header=None, sep='\\t', index=False)\n",
    "df_balance_train.to_csv('train_balance.txt', header=None, sep='\\t', index=False)\n",
    "df_balance_test.to_csv('test_balance.txt', header=None, sep='\\t', index=False)\n",
    "df_balance_train1.to_csv('train_balance1.txt', header=None, sep='\\t', index=False)\n",
    "df_balance_test1.to_csv('test_balance1.txt', header=None, sep='\\t', index=False)\n",
    "print('文件写入成功!')"
   ]
  },
  {
   "cell_type": "code",
   "execution_count": 2,
   "id": "987fe023-8e22-40ca-884c-6019ae24e020",
   "metadata": {},
   "outputs": [],
   "source": [
    "text = []\n",
    "label = []\n",
    "with open('train_all.txt', 'r', encoding='utf-8') as file:  \n",
    "    # 按行读取文件内容  \n",
    "    for line in file: \n",
    "        words = str(line).split(\"\\t\")\n",
    "        text.append(words[0] + '\\n')\n",
    "        label.append(words[1])"
   ]
  },
  {
   "cell_type": "code",
   "execution_count": 7,
   "id": "bb8d01b2-354f-45c4-a4a9-7ad0e0e93d3f",
   "metadata": {},
   "outputs": [
    {
     "data": {
      "text/html": [
       "<div>\n",
       "<style scoped>\n",
       "    .dataframe tbody tr th:only-of-type {\n",
       "        vertical-align: middle;\n",
       "    }\n",
       "\n",
       "    .dataframe tbody tr th {\n",
       "        vertical-align: top;\n",
       "    }\n",
       "\n",
       "    .dataframe thead th {\n",
       "        text-align: right;\n",
       "    }\n",
       "</style>\n",
       "<table border=\"1\" class=\"dataframe\">\n",
       "  <thead>\n",
       "    <tr style=\"text-align: right;\">\n",
       "      <th></th>\n",
       "      <th>0</th>\n",
       "      <th>1</th>\n",
       "    </tr>\n",
       "  </thead>\n",
       "  <tbody>\n",
       "    <tr>\n",
       "      <th>0</th>\n",
       "      <td>后悔没有早点去买！2️⃣8️⃣用出了1️⃣2️⃣8️⃣的感觉本以为就是个普通手机壳没想到真的...</td>\n",
       "      <td>0</td>\n",
       "    </tr>\n",
       "    <tr>\n",
       "      <th>1</th>\n",
       "      <td>#iPhone15系列8月将量产#等哥明年高考完来买你[鲜花] ​​​</td>\n",
       "      <td>0</td>\n",
       "    </tr>\n",
       "    <tr>\n",
       "      <th>2</th>\n",
       "      <td>（莫骂我标题党—听我娓娓道来！！！） 我在有找了好久都没找到的款 ，想办法找到我吧[买爆R]...</td>\n",
       "      <td>0</td>\n",
       "    </tr>\n",
       "    <tr>\n",
       "      <th>3</th>\n",
       "      <td>首先有顺其自然的心态非常重要，有精力时就散散步，累了就多躺，不纠结于体重，给自己身体修复的时...</td>\n",
       "      <td>0</td>\n",
       "    </tr>\n",
       "    <tr>\n",
       "      <th>4</th>\n",
       "      <td>这两年这个词好像还蛮火的，诸多原因，导致大家好像都赚不到钱了，尤其是90后00后这一代人，到...</td>\n",
       "      <td>0</td>\n",
       "    </tr>\n",
       "    <tr>\n",
       "      <th>...</th>\n",
       "      <td>...</td>\n",
       "      <td>...</td>\n",
       "    </tr>\n",
       "    <tr>\n",
       "      <th>10027</th>\n",
       "      <td>手把手教你如何薅学而思的🐑！把功能和资源利用到极致！✌️这份保姆级的学而思学习机使用攻略，快...</td>\n",
       "      <td>0</td>\n",
       "    </tr>\n",
       "    <tr>\n",
       "      <th>10028</th>\n",
       "      <td>我宣布玉树临风的时影大人是我的七月新欢了！ 古装第一美男非肖战莫属，这部剧中战战的颜值与实力...</td>\n",
       "      <td>0</td>\n",
       "    </tr>\n",
       "    <tr>\n",
       "      <th>10029</th>\n",
       "      <td>晚上趁着在外面刚好附近有oppo线下门店，赶紧过去给find x6 Pro 换了个贴膜，之前...</td>\n",
       "      <td>0</td>\n",
       "    </tr>\n",
       "    <tr>\n",
       "      <th>10030</th>\n",
       "      <td>房屋介绍面积：240平 户型：四房两厅三卫 保利天禧位于岳麓区岳麓大道与潇湘北路交汇处西南角...</td>\n",
       "      <td>1</td>\n",
       "    </tr>\n",
       "    <tr>\n",
       "      <th>10031</th>\n",
       "      <td>我发现很多姐妹真的很美丽很美丽啦，但是由于搭子拍照不能够精准捕捉到咱的美貌导致拍照总是不顺心...</td>\n",
       "      <td>0</td>\n",
       "    </tr>\n",
       "  </tbody>\n",
       "</table>\n",
       "<p>10032 rows × 2 columns</p>\n",
       "</div>"
      ],
      "text/plain": [
       "                                                       0  1\n",
       "0      后悔没有早点去买！2️⃣8️⃣用出了1️⃣2️⃣8️⃣的感觉本以为就是个普通手机壳没想到真的...  0\n",
       "1                    #iPhone15系列8月将量产#等哥明年高考完来买你[鲜花] ​​​  0\n",
       "2      （莫骂我标题党—听我娓娓道来！！！） 我在有找了好久都没找到的款 ，想办法找到我吧[买爆R]...  0\n",
       "3      首先有顺其自然的心态非常重要，有精力时就散散步，累了就多躺，不纠结于体重，给自己身体修复的时...  0\n",
       "4      这两年这个词好像还蛮火的，诸多原因，导致大家好像都赚不到钱了，尤其是90后00后这一代人，到...  0\n",
       "...                                                  ... ..\n",
       "10027  手把手教你如何薅学而思的🐑！把功能和资源利用到极致！✌️这份保姆级的学而思学习机使用攻略，快...  0\n",
       "10028  我宣布玉树临风的时影大人是我的七月新欢了！ 古装第一美男非肖战莫属，这部剧中战战的颜值与实力...  0\n",
       "10029  晚上趁着在外面刚好附近有oppo线下门店，赶紧过去给find x6 Pro 换了个贴膜，之前...  0\n",
       "10030  房屋介绍面积：240平 户型：四房两厅三卫 保利天禧位于岳麓区岳麓大道与潇湘北路交汇处西南角...  1\n",
       "10031  我发现很多姐妹真的很美丽很美丽啦，但是由于搭子拍照不能够精准捕捉到咱的美貌导致拍照总是不顺心...  0\n",
       "\n",
       "[10032 rows x 2 columns]"
      ]
     },
     "execution_count": 7,
     "metadata": {},
     "output_type": "execute_result"
    }
   ],
   "source": [
    "df = pd.read_csv('train_all.txt',header=None,sep='\\t')\n",
    "df"
   ]
  },
  {
   "cell_type": "code",
   "execution_count": 12,
   "id": "e1a791e4-2295-4f8b-891e-3732c0e1e845",
   "metadata": {},
   "outputs": [],
   "source": [
    "df_sentence = pd.DataFrame(df[0])\n",
    "df_sentence.to_csv('20231026.txt',header=None,index=False)"
   ]
  },
  {
   "cell_type": "code",
   "execution_count": 13,
   "id": "ff07fa16-730d-457b-a0b9-cf41037e0029",
   "metadata": {},
   "outputs": [],
   "source": [
    "df_label = pd.DataFrame(df[1])\n",
    "df_label.to_csv('20231026_result.txt',header=None,index=False)"
   ]
  },
  {
   "cell_type": "code",
   "execution_count": 28,
   "id": "9d4d47a9-cdea-472b-ac17-6052f0f043d9",
   "metadata": {},
   "outputs": [
    {
     "name": "stdout",
     "output_type": "stream",
     "text": [
      "文件写入成功!\n"
     ]
    }
   ],
   "source": [
    "df_train.to_csv('train.txt', header=None, sep='\\t', index=False)\n",
    "df_test.to_csv('dev.txt', header=None, sep='\\t', index=False) \n",
    "print('文件写入成功!')"
   ]
  },
  {
   "cell_type": "code",
   "execution_count": null,
   "id": "9e2e9377-ec0d-4fd7-b17c-64275cd2cd0c",
   "metadata": {},
   "outputs": [],
   "source": []
  }
 ],
 "metadata": {
  "kernelspec": {
   "display_name": "Python 3 (ipykernel)",
   "language": "python",
   "name": "python3"
  },
  "language_info": {
   "codemirror_mode": {
    "name": "ipython",
    "version": 3
   },
   "file_extension": ".py",
   "mimetype": "text/x-python",
   "name": "python",
   "nbconvert_exporter": "python",
   "pygments_lexer": "ipython3",
   "version": "3.8.17"
  }
 },
 "nbformat": 4,
 "nbformat_minor": 5
}
