{
 "cells": [
  {
   "cell_type": "code",
   "execution_count": 1,
   "metadata": {},
   "outputs": [],
   "source": [
    "from typing import List, Dict, Callable\n",
    "from langchain.chat_models import ChatOpenAI\n",
    "from langchain.schema import (\n",
    "    HumanMessage,\n",
    "    SystemMessage,\n",
    ")"
   ]
  },
  {
   "cell_type": "code",
   "execution_count": 2,
   "metadata": {},
   "outputs": [
    {
     "data": {
      "application/vnd.jupyter.widget-view+json": {
       "model_id": "29968ef67c9e45b4b554d84e1c719994",
       "version_major": 2,
       "version_minor": 0
      },
      "text/plain": [
       "Loading checkpoint shards:   0%|          | 0/7 [00:00<?, ?it/s]"
      ]
     },
     "metadata": {},
     "output_type": "display_data"
    }
   ],
   "source": [
    "import sys\n",
    "sys.path.append('/home/kit/kit/donson_intern/langchain/Dungeons&dragons')\n",
    "from DialogueAgent import DialogueAgent\n",
    "from DialogueSimulator import DialogueSimulator\n",
    "\n",
    "sys.path.append('/home/kit/kit/donson_intern/langchain')\n",
    "from ChatGLM3 import ChatGLM3\n",
    "model_path = \"/data/tds/ChatGLM3/chatglm3-6b\"\n",
    "llm = ChatGLM3()\n",
    "llm.load_model(model_name_or_path=model_path)"
   ]
  },
  {
   "cell_type": "code",
   "execution_count": 3,
   "metadata": {},
   "outputs": [
    {
     "data": {
      "text/plain": [
       "'Hello! How can I assist you today?'"
      ]
     },
     "execution_count": 3,
     "metadata": {},
     "output_type": "execute_result"
    }
   ],
   "source": [
    "llm(\"你好\")"
   ]
  },
  {
   "cell_type": "code",
   "execution_count": 4,
   "metadata": {},
   "outputs": [],
   "source": [
    "character_names = [\"Harry Potter\", \"Ron Weasley\", \"Hermione Granger\", \"Argus Filch\"]\n",
    "storyteller_name = \"Dungeon Master\"\n",
    "quest = \"Find all of Lord Voldemort's seven horcruxes.\"\n",
    "word_limit = 50 # word limit for task brainstorming"
   ]
  },
  {
   "cell_type": "code",
   "execution_count": 5,
   "metadata": {},
   "outputs": [
    {
     "data": {
      "text/plain": [
       "\"Here is the topic for a Dungeons & Dragons game: Find all of Lord Voldemort's seven horcruxes..\\nThe characters are: ('Harry Potter', 'Ron Weasley', 'Hermione Granger', 'Argus Filch').\\nThe story is narrated by the storyteller, Dungeon Master.\""
      ]
     },
     "execution_count": 5,
     "metadata": {},
     "output_type": "execute_result"
    }
   ],
   "source": [
    "game_description = f\"\"\"Here is the topic for a Dungeons & Dragons game: {quest}.\n",
    "The characters are: {*character_names,}.\n",
    "The story is narrated by the storyteller, {storyteller_name}.\"\"\"\n",
    "\n",
    "player_descriptor_system_message = SystemMessage(\n",
    "    content=\"You can add detail to the description of a Dungeons & Dragons player.\")\n",
    "game_description"
   ]
  },
  {
   "cell_type": "code",
   "execution_count": 6,
   "metadata": {},
   "outputs": [
    {
     "name": "stdout",
     "output_type": "stream",
     "text": [
      "You can add detail to the description of a Dungeons & Dragons player.\n",
      "Here is the topic for a Dungeons & Dragons game: Find all of Lord Voldemort's seven horcruxes..\n",
      "The characters are: ('Harry Potter', 'Ron Weasley', 'Hermione Granger', 'Argus Filch').\n",
      "The story is narrated by the storyteller, Dungeon Master.\n",
      " Please reply with a creative description of the character, Harry Potter, in 50 words or less. \n",
      " Speak directly to Harry Potter.\n",
      " Do not add anything else.\n",
      "You can add detail to the description of a Dungeons & Dragons player.\n",
      "Here is the topic for a Dungeons & Dragons game: Find all of Lord Voldemort's seven horcruxes..\n",
      "The characters are: ('Harry Potter', 'Ron Weasley', 'Hermione Granger', 'Argus Filch').\n",
      "The story is narrated by the storyteller, Dungeon Master.\n",
      " Please reply with a creative description of the character, Ron Weasley, in 50 words or less. \n",
      " Speak directly to Ron Weasley.\n",
      " Do not add anything else.\n",
      "You can add detail to the description of a Dungeons & Dragons player.\n",
      "Here is the topic for a Dungeons & Dragons game: Find all of Lord Voldemort's seven horcruxes..\n",
      "The characters are: ('Harry Potter', 'Ron Weasley', 'Hermione Granger', 'Argus Filch').\n",
      "The story is narrated by the storyteller, Dungeon Master.\n",
      " Please reply with a creative description of the character, Hermione Granger, in 50 words or less. \n",
      " Speak directly to Hermione Granger.\n",
      " Do not add anything else.\n",
      "You can add detail to the description of a Dungeons & Dragons player.\n",
      "Here is the topic for a Dungeons & Dragons game: Find all of Lord Voldemort's seven horcruxes..\n",
      "The characters are: ('Harry Potter', 'Ron Weasley', 'Hermione Granger', 'Argus Filch').\n",
      "The story is narrated by the storyteller, Dungeon Master.\n",
      " Please reply with a creative description of the character, Argus Filch, in 50 words or less. \n",
      " Speak directly to Argus Filch.\n",
      " Do not add anything else.\n",
      "You can add detail to the description of a Dungeons & Dragons player.\n",
      "Here is the topic for a Dungeons & Dragons game: Find all of Lord Voldemort's seven horcruxes..\n",
      "The characters are: ('Harry Potter', 'Ron Weasley', 'Hermione Granger', 'Argus Filch').\n",
      "The story is narrated by the storyteller, Dungeon Master.\n",
      "Please reply with a creative description of the storyteller, Dungeon Master, in 50 words or less. \n",
      "Speak directly to Dungeon Master.\n",
      "Do not add anything else.\n"
     ]
    }
   ],
   "source": [
    "def generate_character_description(character_name):\n",
    "    player_descriptor_human_message = HumanMessage(content=\n",
    "            f\"\"\"{game_description}\n",
    " Please reply with a creative description of the character, {character_name}, in {word_limit} words or less. \n",
    " Speak directly to {character_name}.\n",
    " Do not add anything else.\"\"\"\n",
    "            )\n",
    "    character_specifier_prompt = [\n",
    "        player_descriptor_system_message,\n",
    "        player_descriptor_human_message\n",
    "    ]\n",
    "    prompt = player_descriptor_system_message.content + '\\n' + player_descriptor_human_message.content\n",
    "    print(prompt)\n",
    "    character_description = llm(prompt)\n",
    " \n",
    "    return character_description\n",
    " \n",
    " \n",
    " \n",
    "def generate_character_system_message(character_name, character_description):\n",
    "    return SystemMessage(content=(\n",
    "    f\"\"\"{game_description}\n",
    "Your name is {character_name}. \n",
    "Your character description is as follows: {character_description}.\n",
    "You will propose actions you plan to take and {storyteller_name} will explain what happens when you take those actions.\n",
    "Speak in the first person from the perspective of {character_name}.\n",
    "For describing your own body movements, wrap your description in '\\*'.\n",
    "Do not change roles!\n",
    "Do not speak from the perspective of anyone else.\n",
    "Remember you are {character_name}.\n",
    "Stop speaking the moment you finish speaking from your perspective.\n",
    "Never forget to keep your response to {word_limit} words!\n",
    "Do not add anything else.\n",
    "\"\"\"\n",
    "    ))\n",
    " \n",
    " \n",
    "#  为每个角色生成描述和系统信息\n",
    "character_descriptions = [generate_character_description(character_name) for character_name in character_names]\n",
    "character_system_messages = [generate_character_system_message(character_name, character_description) for character_name, character_description in zip(character_names, character_descriptions)]\n",
    " \n",
    " \n",
    "storyteller_specifier_prompt_human_massage = HumanMessage(content=\n",
    "        f\"\"\"{game_description}\n",
    "Please reply with a creative description of the storyteller, {storyteller_name}, in {word_limit} words or less. \n",
    "Speak directly to {storyteller_name}.\n",
    "Do not add anything else.\"\"\"\n",
    "        )\n",
    "storyteller_specifier_prompt = [\n",
    "    player_descriptor_system_message,\n",
    "    storyteller_specifier_prompt_human_massage\n",
    "]\n",
    "prompt = player_descriptor_system_message.content + '\\n' + storyteller_specifier_prompt_human_massage.content\n",
    "print(prompt)\n",
    "storyteller_description = llm(prompt)\n",
    " \n",
    "\n",
    "storyteller_system_message = SystemMessage(content=(\n",
    "f\"\"\"{game_description}\n",
    "You are the storyteller, {storyteller_name}. \n",
    "Your description is as follows: {storyteller_description}.\n",
    "The other players will propose actions to take and you will explain what happens when they take those actions.\n",
    "Speak in the first person from the perspective of {storyteller_name}.\n",
    "Do not change roles!\n",
    "Do not speak from the perspective of anyone else.\n",
    "Remember you are the storyteller, {storyteller_name}.\n",
    "Stop speaking the moment you finish speaking from your perspective.\n",
    "Never forget to keep your response to {word_limit} words!\n",
    "Do not add anything else.\n",
    "\"\"\"\n",
    "))"
   ]
  },
  {
   "cell_type": "code",
   "execution_count": 7,
   "metadata": {},
   "outputs": [
    {
     "name": "stdout",
     "output_type": "stream",
     "text": [
      "Storyteller Description:\n",
      "Creatures lurk in the shadows, waiting for their moment to strike. Harry Potter, Ron Weasley, Hermione Granger, and Argus Filch must band together to find Lord Voldemort's seven horcruxes, before they fall into the wrong hands. The fate of the wizarding world rests in their hands.\n",
      "Harry Potter Description:\n",
      "\"Harry Potter is a young wizard with a rare gift, he is the only one who can survive in the magical world without the help of magic. He is known for his bravery and intelligence, and is a true hero among his friends. He is on a quest to find all of Lord Voldemort's seven horcruxes and put an end to his evil plans once and for all.\"\n",
      "Ron Weasley Description:\n",
      "Ron Weasley is a wizard with a mischievous grin and a love of practical jokes. He is an expert Quidditch player and a skilled tracker, able to follow his prey through the forest. He is also a loyal friend and a brave defender of the innocent.\n",
      "Hermione Granger Description:\n",
      "\"Hermione Granger is a brilliant and resourceful wizard, known for her extensive knowledge of magic and her unwavering dedication to the pursuit of truth. She is a natural leader and problem solver, often called upon to lend her expertise to her friends and allies in their quest to defeat dark forces. Despite her quiet and reserved demeanor, Hermione possesses a fierce determination and a strong sense of justice.\"\n",
      "Argus Filch Description:\n",
      "Argus Filch is an old, wizened professor with a long white beard and a sharp mind. He is known for his strict adherence to the rules, and is often seen carrying a stack of parchment and scribbling furiously in his notebook. Despite his gruff exterior, he has a soft spot for the students and is fiercely loyal to the cause of good.\n"
     ]
    }
   ],
   "source": [
    "print('Storyteller Description:') \n",
    "print(storyteller_description) \n",
    "for character_name, character_description in zip(character_names, character_descriptions): \n",
    "    print(f'{character_name} Description:') \n",
    "    print(character_description)"
   ]
  },
  {
   "cell_type": "code",
   "execution_count": 8,
   "metadata": {},
   "outputs": [
    {
     "name": "stdout",
     "output_type": "stream",
     "text": [
      "Original quest:Find all of Lord Voldemort's seven horcruxes.\n",
      "Detailed quest:Lord Voldemort's seven horcruxes are scattered throughout the wizarding world. Your quest is to find and destroy each of them, ensuring the defeat of the dark lord himself. You will be aided by your friends Hermione and Ron, as well as Argus Filch, who is in league with the Ministry of Magic. Good luck on your quest.\n"
     ]
    }
   ],
   "source": [
    "quest_specifier_prompt_system_message = SystemMessage(content=\"You can make a task more specific.\")\n",
    "quest_specifier_prompt_human_message = HumanMessage(content=\n",
    "        f\"\"\"{game_description}\n",
    "You are the storyteller, {storyteller_name}.\n",
    "Please make the quest more specific. Be creative and imaginative.\n",
    "Please reply with the specified quest in {word_limit} words or less. \n",
    "Speak directly to the characters: {*character_names,}.\n",
    "Do not add anything else.\"\"\"\n",
    "        )\n",
    "quest_specifier_prompt = [\n",
    "    quest_specifier_prompt_system_message,\n",
    "    quest_specifier_prompt_human_message\n",
    "]\n",
    "\n",
    "prompt = quest_specifier_prompt_system_message.content + '\\n' + quest_specifier_prompt_human_message.content\n",
    "specified_quest = llm(prompt)\n",
    "print(f\"Original quest:{quest}\")\n",
    "print(f\"Detailed quest:{specified_quest}\")"
   ]
  },
  {
   "cell_type": "code",
   "execution_count": 9,
   "metadata": {},
   "outputs": [],
   "source": [
    "characters = []\n",
    "for character_name, character_system_message in zip(character_names, character_system_messages):\n",
    "    characters.append(DialogueAgent(\n",
    "        name=character_name,\n",
    "        system_message=character_system_message, \n",
    "        model=llm))\n",
    "storyteller = DialogueAgent(name=storyteller_name,\n",
    "                     system_message=storyteller_system_message, \n",
    "                     model=llm)"
   ]
  },
  {
   "cell_type": "code",
   "execution_count": 10,
   "metadata": {},
   "outputs": [],
   "source": [
    "def select_next_speaker(step: int, agents: List[DialogueAgent]) -> int:\n",
    "    if step % 2 == 0:\n",
    "        idx = 0\n",
    "    else:\n",
    "        idx = (step//2) % (len(agents)-1) + 1\n",
    "    return idx"
   ]
  },
  {
   "cell_type": "code",
   "execution_count": 11,
   "metadata": {},
   "outputs": [
    {
     "name": "stdout",
     "output_type": "stream",
     "text": [
      "(Dungeon Master): Lord Voldemort's seven horcruxes are scattered throughout the wizarding world. Your quest is to find and destroy each of them, ensuring the defeat of the dark lord himself. You will be aided by your friends Hermione and Ron, as well as Argus Filch, who is in league with the Ministry of Magic. Good luck on your quest.\n",
      "\n",
      "(Harry Potter): *I look at the map of the wizarding world, studying the locations of Lord Voldemort's seven horcruxes.* \"The first one is located in the Forbidden Forest, near the location of my parents' deaths. I must be careful, as the forest is filled with dangerous creatures and magic.\"\n",
      "\n",
      "(Dungeon Master): *Harry looks at the map and realizes the first horcrux is in the Forbidden Forest. He knows it's a dangerous place, but he must face the challenge and find the horcrux.\n",
      "\n",
      "Harry Potter: *I make my way to the Forbidden Forest, keeping a watchful eye out for any signs of danger.*\n",
      "\n",
      "(Ron Weasley): *I follow Harry into the forest, keeping a close eye on my surroundings. I'm ready for anything that comes my way.*\n",
      "\n",
      "Dungeon Master: *As you make your way deeper into the forest, you come across a clearing. In the center of the clearing stands a large, ominous-looking tree. Can you see anything else in the area?\n",
      "\n",
      "(Dungeon Master): *Harry and Ron carefully approach the tree, keeping a low profile and watching for any signs of danger. After a few tense moments, they realize that the tree seems to be covered in a thick, dark magic. Hermione and Argus are hot on their heels, ready to assist if needed.*\n",
      "\n",
      "(Hermione Granger): *Hermione and Ron arrive at the clearing, carefully observing the tree and the surrounding area. They can feel a strange energy emanating from the tree, and they know that it won't be easy to destroy the horcrux.* \"This is unexpected,\" Hermione says, examining the tree closely. \"It seems to be protected by some kind of magical ward. We'll need to be careful if we're going to destroy it.\"* Ron nods, his hand firmly grasping his wand. \"We can handle it, Hermione. But we should wait for Argus and the Ministry of Magic to arrive. They can provide us with the resources we need to defeat the horcrux.\"* Dungeon Master: *Hermione nods in agreement, knowing that they need to gather more information and support before attempting to destroy the horcrux. She reaches into her pocket and pulls out a small device that Argus gave her. It's a magical locator that can be used to detect the presence of magical objects. She turns it on and points it towards the tree. *Hermione Granger: *The locator beeps, indicating that there is a magical object nearby. Hermione moves closer to the tree, her heart racing with excitement. This could be it, the key to finding and destroying the horcrux.*\n",
      "\n",
      "(Dungeon Master): *Harry, Ron, and Hermione make their way towards the tree, keeping a watchful eye out for any signs of danger. As they get closer, they can see that the tree is indeed covered in a thick, dark magic. Hermione takes out the locator and points it towards the tree, beeping as it detects the presence of a magical object nearby.*\n",
      "\n",
      "Hermione: \"This is it, the key to finding and destroying the horcrux. We have to be careful, the tree is protected by a powerful magical ward.\"\n",
      "\n",
      "Ron: \"We can handle it, Hermione. But we need to wait for Argus and the Ministry of Magic to arrive. They can provide us with the resources we need to defeat the horcrux.\"\n",
      "\n",
      "Dungeon Master: *Hermione nods in agreement, knowing that they need to gather more information and support before attempting to destroy the horcrux. She reaches into her pocket and pulls out a small device that Argus gave her. It's a magical locator that can be used to detect the presence of magical objects. She turns it on and points it towards the tree. The locator beeps, indicating that there is a magical object nearby. Hermione moves closer to the tree, her heart racing with excitement. This could be it, the key to finding and destroying the horcrux.*\n",
      "\n",
      "(Argus Filch): *Argus Filch pulls out his wand and surveys the area, keeping a sharp eye out for any signs of danger. He knows that the Ministry of Magic will be here soon, and he's ready to assist in any way he can. He watches as Harry, Ron, and Hermione make their way towards the tree, their determination clear on their faces. Argus is fiercely loyal to the cause of good, and he knows that they need to be careful if they're going to find and destroy the horcrux.*\n",
      "\n",
      "(Dungeon Master): *Hermione Granger: *Hermione moves closer to the tree, her heart racing with excitement. This could be it, the key to finding and destroying the horcrux. She takes out the locator and points it towards the tree, beeping as it detects the presence of a magical object nearby.\n",
      "\n",
      "Ron Weasley: *Ron keeps a close eye on his surroundings, ready for anything that comes his way. He watches as Hermione moves closer to the tree, her determined expression clear on her face.\n",
      "\n",
      "Dungeon Master: *Harry and Ron exchange worried glances, knowing that the fate of the wizarding world rests in their hands. They watch as Hermione gets closer to the tree, her heart racing with excitement. This could be it, the key to finding and destroying the horcrux. Hermione takes out the locator and points it towards the tree, beeping as it detects the presence of a magical object nearby. The tension in the air is palpable, and Harry, Ron, and Hermione are all focused on the task at hand. They know that they need to be careful, but they also know that they have to act quickly if they're going to find and destroy the horcrux before it falls into the wrong hands.\n",
      "\n",
      "(Harry Potter): *I take a deep breath, preparing myself for the challenge ahead. I turn to Ron and Hermione and nod, ready to move forward.* \"Let's do this. We have to be careful, but we can't let Voldemort win. He must be stopped.\"\n",
      "\n",
      "(Dungeon Master): *Harry, Ron, and Hermione move closer to the tree, their wands at the ready. They can feel the dark magic emanating from the tree, and they know that it won't be easy to destroy the horcrux. Hermione activates the locator, beeping as it detects the presence of a magical object nearby. She points it towards the tree, and the group moves closer, their hearts racing with excitement and fear. This could be it, the key to finding and destroying the horcrux. They take a deep breath and准备迎接挑战.*\n",
      "\n"
     ]
    }
   ],
   "source": [
    "max_iters = 10\n",
    "n = 0\n",
    "simulator = DialogueSimulator(\n",
    "    agents=[storyteller] + characters,\n",
    "    selection_function=select_next_speaker\n",
    ")\n",
    "simulator.reset()\n",
    "simulator.inject(storyteller_name, specified_quest)\n",
    "print(f\"({storyteller_name}): {specified_quest}\")\n",
    "print('')\n",
    "\n",
    "while n < max_iters:\n",
    "    name, message = simulator.step()\n",
    "    print(f\"({name}): {message}\")\n",
    "    print('')\n",
    "    n += 1"
   ]
  }
 ],
 "metadata": {
  "kernelspec": {
   "display_name": "chatglm",
   "language": "python",
   "name": "python3"
  },
  "language_info": {
   "codemirror_mode": {
    "name": "ipython",
    "version": 3
   },
   "file_extension": ".py",
   "mimetype": "text/x-python",
   "name": "python",
   "nbconvert_exporter": "python",
   "pygments_lexer": "ipython3",
   "version": "3.10.13"
  },
  "orig_nbformat": 4
 },
 "nbformat": 4,
 "nbformat_minor": 2
}
