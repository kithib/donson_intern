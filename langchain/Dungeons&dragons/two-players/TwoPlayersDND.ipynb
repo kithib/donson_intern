{
 "cells": [
  {
   "cell_type": "code",
   "execution_count": 1,
   "metadata": {},
   "outputs": [],
   "source": [
    "from typing import List, Dict, Callable\n",
    "from langchain.chat_models import ChatOpenAI\n",
    "from langchain.schema import (\n",
    "    HumanMessage,\n",
    "    SystemMessage,\n",
    ")"
   ]
  },
  {
   "cell_type": "code",
   "execution_count": 2,
   "metadata": {},
   "outputs": [
    {
     "data": {
      "application/vnd.jupyter.widget-view+json": {
       "model_id": "0fed5028b6f640dda87f656d85a685da",
       "version_major": 2,
       "version_minor": 0
      },
      "text/plain": [
       "Loading checkpoint shards:   0%|          | 0/7 [00:00<?, ?it/s]"
      ]
     },
     "metadata": {},
     "output_type": "display_data"
    }
   ],
   "source": [
    "import sys\n",
    "sys.path.append('/home/kit/kit/donson_intern/langchain/Dungeons&dragons')\n",
    "from DialogueAgent import DialogueAgent\n",
    "from DialogueSimulator import DialogueSimulator\n",
    "\n",
    "sys.path.append('/home/kit/kit/donson_intern/langchain')\n",
    "from ChatGLM3 import ChatGLM3\n",
    "model_path = \"/data/tds/ChatGLM3/chatglm3-6b\"\n",
    "llm = ChatGLM3()\n",
    "llm.load_model(model_name_or_path=model_path)"
   ]
  },
  {
   "cell_type": "code",
   "execution_count": 3,
   "metadata": {},
   "outputs": [
    {
     "data": {
      "text/plain": [
       "'Hello! How can I assist you today?'"
      ]
     },
     "execution_count": 3,
     "metadata": {},
     "output_type": "execute_result"
    }
   ],
   "source": [
    "llm(\"你好\")"
   ]
  },
  {
   "cell_type": "code",
   "execution_count": 4,
   "metadata": {},
   "outputs": [],
   "source": [
    "# 定义角色\n",
    "protagonist_name = \"Harry Potter\"\n",
    "storyteller_name = \"Dungeon Master\"\n",
    "quest = \"Find all of Lord Voldemort's seven horcruxes.\"\n",
    "word_limit = 50 # word limit for task brainstorming"
   ]
  },
  {
   "cell_type": "code",
   "execution_count": 5,
   "metadata": {},
   "outputs": [
    {
     "name": "stdout",
     "output_type": "stream",
     "text": [
      "You can add detail to the description of a Dungeons & Dragons player.\n",
      "Here is the topic for a Dungeons & Dragons game: Find all of Lord Voldemort's seven horcruxes..\n",
      "There is one player in this game: the protagonist, Harry Potter.\n",
      "The story is narrated by the storyteller, Dungeon Master.\n",
      "Please reply with a creative description of the protagonist, Harry Potter, in 50 words or less. \n",
      "Speak directly to Harry Potter.\n",
      "Do not add anything else.\n",
      "You can add detail to the description of a Dungeons & Dragons player.\n",
      "Here is the topic for a Dungeons & Dragons game: Find all of Lord Voldemort's seven horcruxes..\n",
      "There is one player in this game: the protagonist, Harry Potter.\n",
      "The story is narrated by the storyteller, Dungeon Master.\n",
      "Please reply with a creative description of the storyteller, Dungeon Master, in 50 words or less. \n",
      "Speak directly to Dungeon Master.\n",
      "Do not add anything else.\n"
     ]
    }
   ],
   "source": [
    "#定义任务\n",
    "game_description = f\"\"\"Here is the topic for a Dungeons & Dragons game: {quest}.\n",
    "There is one player in this game: the protagonist, {protagonist_name}.\n",
    "The story is narrated by the storyteller, {storyteller_name}.\"\"\"\n",
    "\n",
    "player_descriptor_system_message = SystemMessage(\n",
    "    content=\"You can add detail to the description of a Dungeons & Dragons player.\")\n",
    "\n",
    "player_descriptor_human_message = HumanMessage(content=\n",
    "        f\"\"\"{game_description}\n",
    "Please reply with a creative description of the protagonist, {protagonist_name}, in {word_limit} words or less. \n",
    "Speak directly to {protagonist_name}.\n",
    "Do not add anything else.\"\"\")\n",
    "protagonist_specifier_prompt = [\n",
    "    player_descriptor_system_message,\n",
    "    player_descriptor_human_message\n",
    "]\n",
    "prompt = player_descriptor_system_message.content + '\\n' + player_descriptor_human_message.content\n",
    "print(prompt)\n",
    "protagonist_description = llm(prompt)\n",
    "storyteller_human_message = HumanMessage(content=\n",
    "        f\"\"\"{game_description}\n",
    "Please reply with a creative description of the storyteller, {storyteller_name}, in {word_limit} words or less. \n",
    "Speak directly to {storyteller_name}.\n",
    "Do not add anything else.\"\"\")\n",
    "storyteller_specifier_prompt = [\n",
    "    player_descriptor_system_message,\n",
    "    storyteller_human_message\n",
    "]\n",
    "prompt = player_descriptor_system_message.content + '\\n' + storyteller_human_message.content\n",
    "print(prompt)\n",
    "storyteller_description = llm(prompt)"
   ]
  },
  {
   "cell_type": "code",
   "execution_count": 6,
   "metadata": {},
   "outputs": [
    {
     "name": "stdout",
     "output_type": "stream",
     "text": [
      "Protagonist Description:\n",
      "\"Harry Potter, a young wizard with a passion for adventure, has been tasked with the impossible task of finding and destroying Lord Voldemort's seven horcruxes. With the help of his friends Ron Weasley and Hermione Granger, Harry sets out on a dangerous journey through the darkest corners of the wizarding world.\"\n",
      "Storyteller Description:\n",
      "\"Welcome, Harry Potter, to this perilous quest to find all of Lord Voldemort's seven horcruxes. You will face dark magic, treacherous obstacles, and dangerous enemies along the way. Are you ready to embark on this epic journey?\"\n"
     ]
    }
   ],
   "source": [
    "print('Protagonist Description:')\n",
    "print(protagonist_description)\n",
    "print('Storyteller Description:')\n",
    "print(storyteller_description)"
   ]
  },
  {
   "cell_type": "code",
   "execution_count": 7,
   "metadata": {},
   "outputs": [],
   "source": [
    "# 详细任务描述\n",
    "protagonist_system_message = SystemMessage(content=(\n",
    "f\"\"\"{game_description}\n",
    "Never forget you are the protagonist, {protagonist_name}, and I am the storyteller, {storyteller_name}. \n",
    "Your character description is as follows: {protagonist_description}.\n",
    "You will propose actions you plan to take and I will explain what happens when you take those actions.\n",
    "Speak in the first person from the perspective of {protagonist_name}.\n",
    "For describing your own body movements, wrap your description in '\\*'.\n",
    "Do not change roles!\n",
    "Do not speak from the perspective of {storyteller_name}.\n",
    "Do not forget to finish speaking by saying, 'It is your turn, {storyteller_name}.'\n",
    "Do not add anything else.\n",
    "Remember you are the protagonist, {protagonist_name}.\n",
    "Stop speaking the moment you finish speaking from your perspective.\n",
    "\"\"\"\n",
    "))\n",
    "storyteller_system_message = SystemMessage(content=(\n",
    "f\"\"\"{game_description}\n",
    "Never forget you are the storyteller, {storyteller_name}, and I am the protagonist, {protagonist_name}. \n",
    "Your character description is as follows: {storyteller_description}.\n",
    "I will propose actions I plan to take and you will explain what happens when I take those actions.\n",
    "Speak in the first person from the perspective of {storyteller_name}.\n",
    "For describing your own body movements, wrap your description in '\\*'.\n",
    "Do not change roles!\n",
    "Do not speak from the perspective of {protagonist_name}.\n",
    "Do not forget to finish speaking by saying, 'It is your turn, {protagonist_name}.'\n",
    "Do not add anything else.\n",
    "Remember you are the storyteller, {storyteller_name}.\n",
    "Stop speaking the moment you finish speaking from your perspective.\n",
    "\"\"\"\n",
    "))"
   ]
  },
  {
   "cell_type": "code",
   "execution_count": 8,
   "metadata": {},
   "outputs": [
    {
     "name": "stdout",
     "output_type": "stream",
     "text": [
      "Original quest:Find all of Lord Voldemort's seven horcruxes.\n",
      "Detailed quest:\"You have been tasked with finding all of Lord Voldemort's seven horcruxes. These objects, each infused with a piece of Voldemort's soul, are scattered throughout the wizarding world. You must use your wits and the help of your friends to locate them all and stop Voldemort once and for all.\"\n"
     ]
    }
   ],
   "source": [
    "quest_specifier_prompt_system_message = SystemMessage(content=\"You can make a task more specific.\")\n",
    "quest_specifier_prompt_human_message = HumanMessage(content=\n",
    "        f\"\"\"{game_description}\n",
    "You are the storyteller, {storyteller_name}.\n",
    "Please make the quest more specific. Be creative and imaginative.\n",
    "Please reply with the specified quest in {word_limit} words or less. \n",
    "Speak directly to the protagonist {protagonist_name}.\n",
    "Do not add anything else.\"\"\"\n",
    "        )\n",
    "quest_specifier_prompt = [\n",
    "    quest_specifier_prompt_system_message,\n",
    "    quest_specifier_prompt_human_message\n",
    "]\n",
    "prompt = quest_specifier_prompt_system_message.content + '\\n' + quest_specifier_prompt_human_message.content\n",
    "specified_quest = llm(prompt)\n",
    "print(f\"Original quest:{quest}\")\n",
    "print(f\"Detailed quest:{specified_quest}\")"
   ]
  },
  {
   "cell_type": "code",
   "execution_count": 9,
   "metadata": {},
   "outputs": [],
   "source": [
    "protagonist = DialogueAgent(name=protagonist_name,\n",
    "                     system_message=protagonist_system_message, \n",
    "                     model=llm)\n",
    "\n",
    "storyteller = DialogueAgent(name=storyteller_name,\n",
    "                     system_message=storyteller_system_message, \n",
    "                     model=llm)"
   ]
  },
  {
   "cell_type": "code",
   "execution_count": 10,
   "metadata": {},
   "outputs": [],
   "source": [
    "# 选择函数\n",
    "def select_next_speaker(step: int, agents: List[DialogueAgent]) -> int:\n",
    "    idx = step % len(agents)\n",
    "    return idx"
   ]
  },
  {
   "cell_type": "code",
   "execution_count": 11,
   "metadata": {},
   "outputs": [
    {
     "name": "stdout",
     "output_type": "stream",
     "text": [
      "(Dungeon Master): \"You have been tasked with finding all of Lord Voldemort's seven horcruxes. These objects, each infused with a piece of Voldemort's soul, are scattered throughout the wizarding world. You must use your wits and the help of your friends to locate them all and stop Voldemort once and for all.\"\n",
      "\n",
      "(Harry Potter): *I look at Ron and Hermione, who are both eager to help me in this quest.* \"Thanks for the help, guys. We'll start by checking out the places Voldemort has been known to frequent. That should give us a good starting point.\"\n",
      "It is your turn, Dungeon Master.\n",
      "\n",
      "(Dungeon Master): *I nod and give Harry a few suggestions.* \"Good plan, Harry. Start by visiting the Ministry of Magic, where Voldemort used to work. He kept a private office there, where he would often meet with his followers. Also, you should check out the wizarding shops in Diagon Alley, as Voldemort often bought supplies there. Lastly, you may want to visit the Burrow, where many of Voldemort's followers lived. It's not sure if Voldemort ever visited there himself, but it's worth checking out.\"\n",
      "It is your turn, Harry Potter.\n",
      "\n",
      "(Harry Potter): *I nod and thank the Dungeon Master for the suggestions. I then turn to my friends and ask,* \"Ready to head out to the Ministry of Magic? We can stop by the wizarding shops in Diagon Alley on the way.\"\n",
      "It is your turn, Dungeon Master.\n",
      "\n",
      "(Dungeon Master): *Harry nods and leads the way to the Ministry of Magic. He keeps a steady pace, his mind already running through the possible obstacles they may face.* \"Alright, let's make a stop at the Ministry of Magic first. We'll see what we can find out about Voldemort's past and his connection to the Ministry. After that, we'll head over to the wizarding shops in Diagon Alley. Does anyone have any suggestions on what we should look for there?\"\n",
      "It is your turn, Harry Potter.\n",
      "\n",
      "(Harry Potter): \"I think we should start by asking around at the Ministry of Magic. Maybe we can find out where Voldemort's private office was and what kind of information he was looking for. That should give us a good starting point for our search.\"\n",
      "It is your turn, Dungeon Master.\n",
      "\n",
      "(Dungeon Master): *Harry nods and leads the way to the Ministry of Magic. He keeps a steady pace, his mind already running through the possible obstacles they may face.* \"Alright, let's make a stop at the Ministry of Magic first. We'll see what we can find out about Voldemort's past and his connection to the Ministry. After that, we'll head over to the wizarding shops in Diagon Alley. Does anyone have any suggestions on what we should look for there?\"\n",
      "\n",
      "It is your turn, Harry Potter.\n",
      "\n"
     ]
    }
   ],
   "source": [
    "max_iters = 6\n",
    "n = 0\n",
    "simulator = DialogueSimulator(\n",
    "    agents=[storyteller, protagonist],\n",
    "    selection_function=select_next_speaker\n",
    ")\n",
    "simulator.reset()\n",
    "simulator.inject(storyteller_name, specified_quest)\n",
    "print(f\"({storyteller_name}): {specified_quest}\")\n",
    "print('')\n",
    "\n",
    "while n < max_iters:\n",
    "    name, message = simulator.step()\n",
    "    print(f\"({name}): {message}\")\n",
    "    print('')\n",
    "    n += 1"
   ]
  }
 ],
 "metadata": {
  "kernelspec": {
   "display_name": "chatglm",
   "language": "python",
   "name": "python3"
  },
  "language_info": {
   "codemirror_mode": {
    "name": "ipython",
    "version": 3
   },
   "file_extension": ".py",
   "mimetype": "text/x-python",
   "name": "python",
   "nbconvert_exporter": "python",
   "pygments_lexer": "ipython3",
   "version": "3.10.13"
  },
  "orig_nbformat": 4
 },
 "nbformat": 4,
 "nbformat_minor": 2
}
