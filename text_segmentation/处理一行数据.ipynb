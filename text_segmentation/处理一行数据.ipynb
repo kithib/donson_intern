{
 "cells": [
  {
   "cell_type": "markdown",
   "id": "4a71c513",
   "metadata": {},
   "source": [
    "待完成 ①②③④1️⃣2️⃣3️⃣ 1、 第一 分割  "
   ]
  },
  {
   "cell_type": "code",
   "execution_count": 1,
   "id": "ae230799",
   "metadata": {},
   "outputs": [],
   "source": [
    "import pandas as pd\n",
    "from collections import OrderedDict\n",
    "import re "
   ]
  },
  {
   "cell_type": "code",
   "execution_count": 2,
   "id": "0a80f3fa",
   "metadata": {},
   "outputs": [],
   "source": [
    "#将一个text 切分成最小单位，带标点符号\n",
    "def split_string_by_punctuation(text, min_length):\n",
    "    if len(text) < min_length:\n",
    "        return [text]\n",
    "    # 使用正则表达式匹配句号、逗号和感叹号，并将其捕获到括号中\n",
    "    punctuation_pattern = r'([。！？；])'\n",
    "    # 使用正则表达式的 split 方法进行分割，此时会将捕获到的标点符号一并保存\n",
    "    split_text = re.split(punctuation_pattern, text)\n",
    "    # 从分割后的子句中移除空字符串\n",
    "    split_text = [i for i in split_text if i != '']\n",
    "    # 将分割符放在前一个子句中\n",
    "    tmp_list = []\n",
    "    for i in range(0,len(split_text),2):\n",
    "        if i + 1 > len(split_text) - 1:\n",
    "            sentence = split_text[i]\n",
    "        else:\n",
    "            sentence = split_text[i] + split_text[i + 1]\n",
    "        tmp_list.append(sentence)\n",
    "    split_text = tmp_list\n",
    "    for i in range(len(split_text)):\n",
    "        #split_text[i] = re.split(r'([✅◆●①②③④1️⃣2️⃣3️⃣1.1、第一])',split_text[i])\n",
    "        split_text[i] = re.split(r'(✅|◆|●|1\\.|2\\.|3\\.)',split_text[i])\n",
    "    flattened_list = [item for sublist in split_text for item in sublist]\n",
    "    split_text = [i for i in flattened_list if i != ''] \n",
    "    no_text = [re.sub(r'(✅|◆|●|1\\.|2\\.|3\\.)', '', text) for text in split_text]\n",
    "    split_text = [i for i in no_text if i != ''] \n",
    "    return split_text"
   ]
  },
  {
   "cell_type": "code",
   "execution_count": 3,
   "id": "d5f6ec2a",
   "metadata": {},
   "outputs": [],
   "source": [
    "#处理括号切分问题\n",
    "def check_parentheses(s):\n",
    "    count_left = 0\n",
    "    count_right = 0\n",
    "\n",
    "    for char in s:\n",
    "        if char == '（':\n",
    "            count_left += 1\n",
    "        elif char == '）':\n",
    "            count_right += 1\n",
    "            \n",
    "    if count_left % 2 == 0 and count_right % 2 == 0:\n",
    "        return True, -1\n",
    "    elif count_left > count_right:\n",
    "        return False, 0\n",
    "    elif count_left < count_right:\n",
    "        return False, 1\n",
    "    else:\n",
    "        return False, \"Invalid string\"\n",
    "def megre_sentence(split_text):\n",
    "    stack = []\n",
    "    result = []\n",
    "    sign = 0\n",
    "    for s in split_text:\n",
    "        is_parentheses,parentheses_type = check_parentheses(s)\n",
    "        if is_parentheses == False and parentheses_type == 0  and sign == 0:\n",
    "            stack.append(s)\n",
    "            sign = 1\n",
    "        elif is_parentheses == False and parentheses_type == 1  and sign == 1:\n",
    "            stack.append(s)\n",
    "            if stack:\n",
    "                result.append(\"\".join(stack))\n",
    "                stack = []\n",
    "                sign = 0\n",
    "            else:\n",
    "                raise ValueError(\"Mismatched parentheses in input strings.\")\n",
    "        elif sign:\n",
    "            stack.append(s)\n",
    "        else:\n",
    "            result.append(s)\n",
    "    # 处理列表末尾的栈元素\n",
    "    if stack:\n",
    "        result.append(\"\".join(stack))\n",
    "    return result"
   ]
  },
  {
   "cell_type": "code",
   "execution_count": 4,
   "id": "0eb5c623",
   "metadata": {},
   "outputs": [],
   "source": [
    "#处理一行数据\n",
    "def find_aim_word(line , name , window ):\n",
    "    aim_word = \"\"\n",
    "    aim_word_list = []\n",
    "    last_right = 0\n",
    "    split_line = split_string_by_punctuation(line,200)\n",
    "    split_line = megre_sentence(split_line)  # 除去括号分割问题\n",
    "    for i in range(len(split_line)):\n",
    "        if split_line[i].find(name[0]) != -1 or split_line[i].find(name[1]) != -1:\n",
    "            left = max(0,i - window,last_right)\n",
    "            if left > i:\n",
    "                if split_line[min(len(split_line) - 1 ,left)].find(name[0]) != -1 or split_line[min(len(split_line) - 1 ,left)].find(name[1]) != -1: \n",
    "                    i = left\n",
    "                    continue\n",
    "                else:\n",
    "                    aim_word_list[-1] = aim_word_list[-1] + split_line[left]\n",
    "                    continue\n",
    "            right = min(i + window + 1,len(split_line))\n",
    "            for j in range(left , right):\n",
    "                aim_word += split_line[j]\n",
    "                last_right = right\n",
    "            aim_word_list.append(aim_word)\n",
    "            aim_word = \"\"\n",
    "    return aim_word_list"
   ]
  },
  {
   "cell_type": "code",
   "execution_count": 5,
   "id": "799c4fed",
   "metadata": {},
   "outputs": [
    {
     "data": {
      "text/plain": [
       "['提前选好奶粉再转奶，对于3岁内的宝宝来说，奶粉不仅要亲和肚肚好吸收，还要有DHA等关键脑营养。-就拿我家宝宝从二段转三段奶粉🍼来说，他之前喝的就是美赞臣铂睿A2的二段，一直喝的挺好的，所以一岁之后直接买了同款三段。.转奶的时候先喝了一顿三段，观察宝宝没有什么不适反应后，从第二天开始就把三段奶粉的次数增加了，差不多一个星期宝宝就从二段顺利转到👉三段了，基本没有不舒服的情况！',\n",
       " '-之所以一直给宝宝选美赞臣铂睿A2，是因为它不仅好吸收，还拥有超棒的配方👍~-👶🏻宝宝3岁前是身体机能发育的不可逆黄金期，要想培养好的脑力基础，补充DHA很关键。很多奶粉虽然添加了DHA，但是量不够起不到关键作用。',\n",
       " '.当然了，给宝宝选奶粉也不能只看其中一个成分，还得看整个配方是否有效。美赞臣铂睿全配方都经过了17项科学喂养实证，成分含量都是经过科学方法论证有效的，给宝宝喝起来更放心~-很多宝宝转奶后，容易有肚肚不适的情况。美赞臣铂睿里用的是A2蛋白奶源，营养充足好吸收，肚肚没负担~.搭配PDX+GOS长短链益生元组合模拟HMO，呵护肚肚健康，👶🏻肚肚舒适了，成功转奶事半功倍~-在给宝宝选奶粉的时候，我还非常看重品牌，大品牌品质更有保障！',\n",
       " '像美赞臣拥有118年的科研实力，百年老品牌让人很放心。宝妈们可以放心选择！',\n",
       " '-🍃给宝宝转奶并不难，抓准时机用对方法，轻松实现“丝滑转奶”！想省事的宝妈可以PICK同款美赞臣铂睿A2哦，这么棒的奶粉只要200元多一些，性价比超高！']"
      ]
     },
     "execution_count": 5,
     "metadata": {},
     "output_type": "execute_result"
    }
   ],
   "source": [
    "name_list = [\"美赞臣\",\"MEADJOHNSON\"]\n",
    "x = \"👧🏻给宝宝转奶是每个妈妈都要经历的事情，尤其是对于一些肚肚娇嫩的宝宝来说，转奶可是个技术活，稍不注意就容易让宝宝出状况。-总结了三点宝宝转奶时的注意事项~一起看看吧！✅无论是亲喂转奶粉，还是二段转三段，或者转不同品牌，转奶过程一定要循序渐进，让宝宝有适应的时间.✅转奶要选在宝宝身体健康、精神状态良好的时候，不能在接种疫苗前后、生病、腹泻时转奶.✅提前选好奶粉再转奶，对于3岁内的宝宝来说，奶粉不仅要亲和肚肚好吸收，还要有DHA等关键脑营养。-就拿我家宝宝从二段转三段奶粉🍼来说，他之前喝的就是美赞臣铂睿A2的二段，一直喝的挺好的，所以一岁之后直接买了同款三段。.转奶的时候先喝了一顿三段，观察宝宝没有什么不适反应后，从第二天开始就把三段奶粉的次数增加了，差不多一个星期宝宝就从二段顺利转到👉三段了，基本没有不舒服的情况！-之所以一直给宝宝选美赞臣铂睿A2，是因为它不仅好吸收，还拥有超棒的配方👍~-👶🏻宝宝3岁前是身体机能发育的不可逆黄金期，要想培养好的脑力基础，补充DHA很关键。很多奶粉虽然添加了DHA，但是量不够起不到关键作用。而铂睿的DHA含量达到了0.4%科学添加量！量足够才能被有效吸收，聪明宝宝喝铂睿准没错👍。.当然了，给宝宝选奶粉也不能只看其中一个成分，还得看整个配方是否有效。美赞臣铂睿全配方都经过了17项科学喂养实证，成分含量都是经过科学方法论证有效的，给宝宝喝起来更放心~-很多宝宝转奶后，容易有肚肚不适的情况。美赞臣铂睿里用的是A2蛋白奶源，营养充足好吸收，肚肚没负担~.搭配PDX+GOS长短链益生元组合模拟HMO，呵护肚肚健康，👶🏻肚肚舒适了，成功转奶事半功倍~-在给宝宝选奶粉的时候，我还非常看重品牌，大品牌品质更有保障！像美赞臣拥有118年的科研实力，百年老品牌让人很放心。宝妈们可以放心选择！-🍃给宝宝转奶并不难，抓准时机用对方法，轻松实现“丝滑转奶”！想省事的宝妈可以PICK同款美赞臣铂睿A2哦，这么棒的奶粉只要200元多一些，性价比超高！\"\n",
    "find_aim_word(x , name_list , 1)"
   ]
  }
 ],
 "metadata": {
  "kernelspec": {
   "display_name": "Python 3 (ipykernel)",
   "language": "python",
   "name": "python3"
  },
  "language_info": {
   "codemirror_mode": {
    "name": "ipython",
    "version": 3
   },
   "file_extension": ".py",
   "mimetype": "text/x-python",
   "name": "python",
   "nbconvert_exporter": "python",
   "pygments_lexer": "ipython3",
   "version": "3.11.4"
  }
 },
 "nbformat": 4,
 "nbformat_minor": 5
}
