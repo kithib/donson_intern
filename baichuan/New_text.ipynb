{
 "cells": [
  {
   "cell_type": "code",
   "execution_count": 4,
   "metadata": {},
   "outputs": [],
   "source": [
    "import torch\n",
    "import time\n",
    "import pandas as pd\n",
    "import numpy as np\n",
    "from transformers import AutoModelForCausalLM, AutoTokenizer,Pipeline \n",
    "from transformers.generation.utils import GenerationConfig"
   ]
  },
  {
   "cell_type": "code",
   "execution_count": 2,
   "metadata": {},
   "outputs": [],
   "source": [
    "def init_model(badwords = []):\n",
    "    model = AutoModelForCausalLM.from_pretrained(\n",
    "        \"/data/tds/Baichuan2/Baichuan2-13B-Chat\",\n",
    "        torch_dtype=torch.float16,\n",
    "        device_map=\"cuda:0\",\n",
    "        trust_remote_code=True,\n",
    "    )\n",
    "    model.generation_config = GenerationConfig.from_pretrained(\n",
    "        \"/data/tds/Baichuan2/Baichuan2-13B-Chat\",\n",
    "        temperature=0.8,\n",
    "        no_repeat_ngram_size=8,\n",
    "        bad_words_ids = badwords\n",
    "    )\n",
    "    tokenizer = AutoTokenizer.from_pretrained(\n",
    "        \"/data/tds/Baichuan2/Baichuan2-13B-Chat\",\n",
    "        use_fast=False,\n",
    "        trust_remote_code=True\n",
    "    )\n",
    "    print(model.generation_config)\n",
    "    return model, tokenizer\n",
    "\n",
    "tokenizer = AutoTokenizer.from_pretrained(\n",
    "        \"/data/tds/Baichuan2/Baichuan2-13B-Chat\",\n",
    "        use_fast=False,\n",
    "        trust_remote_code=True\n",
    "    )"
   ]
  },
  {
   "cell_type": "code",
   "execution_count": 3,
   "metadata": {},
   "outputs": [
    {
     "data": {
      "application/vnd.jupyter.widget-view+json": {
       "model_id": "019b136d856a4d7d98fa08b15becc317",
       "version_major": 2,
       "version_minor": 0
      },
      "text/plain": [
       "Loading checkpoint shards:   0%|          | 0/3 [00:00<?, ?it/s]"
      ]
     },
     "metadata": {},
     "output_type": "display_data"
    },
    {
     "name": "stdout",
     "output_type": "stream",
     "text": [
      "GenerationConfig {\n",
      "  \"assistant_token_id\": 196,\n",
      "  \"bad_words_ids\": [\n",
      "    [\n",
      "      4547\n",
      "    ],\n",
      "    [\n",
      "      10108\n",
      "    ],\n",
      "    [\n",
      "      3258\n",
      "    ],\n",
      "    [\n",
      "      9969\n",
      "    ],\n",
      "    [\n",
      "      2534\n",
      "    ],\n",
      "    [\n",
      "      14748\n",
      "    ],\n",
      "    [\n",
      "      37425\n",
      "    ],\n",
      "    [\n",
      "      50515\n",
      "    ],\n",
      "    [\n",
      "      10839\n",
      "    ],\n",
      "    [\n",
      "      11395\n",
      "    ]\n",
      "  ],\n",
      "  \"bos_token_id\": 1,\n",
      "  \"do_sample\": true,\n",
      "  \"eos_token_id\": 2,\n",
      "  \"max_new_tokens\": 2048,\n",
      "  \"no_repeat_ngram_size\": 8,\n",
      "  \"pad_token_id\": 0,\n",
      "  \"repetition_penalty\": 1.05,\n",
      "  \"temperature\": 0.8,\n",
      "  \"top_k\": 5,\n",
      "  \"top_p\": 0.85,\n",
      "  \"transformers_version\": \"4.33.2\",\n",
      "  \"user_token_id\": 195\n",
      "}\n",
      "\n",
      "GenerationConfig {\n",
      "  \"assistant_token_id\": 196,\n",
      "  \"bad_words_ids\": [\n",
      "    [\n",
      "      4547\n",
      "    ],\n",
      "    [\n",
      "      10108\n",
      "    ],\n",
      "    [\n",
      "      3258\n",
      "    ],\n",
      "    [\n",
      "      9969\n",
      "    ],\n",
      "    [\n",
      "      2534\n",
      "    ],\n",
      "    [\n",
      "      14748\n",
      "    ],\n",
      "    [\n",
      "      37425\n",
      "    ],\n",
      "    [\n",
      "      50515\n",
      "    ],\n",
      "    [\n",
      "      10839\n",
      "    ],\n",
      "    [\n",
      "      11395\n",
      "    ]\n",
      "  ],\n",
      "  \"bos_token_id\": 1,\n",
      "  \"do_sample\": true,\n",
      "  \"eos_token_id\": 2,\n",
      "  \"max_new_tokens\": 2048,\n",
      "  \"no_repeat_ngram_size\": 8,\n",
      "  \"pad_token_id\": 0,\n",
      "  \"repetition_penalty\": 1.05,\n",
      "  \"temperature\": 0.8,\n",
      "  \"top_k\": 5,\n",
      "  \"top_p\": 0.85,\n",
      "  \"transformers_version\": \"4.33.2\",\n",
      "  \"user_token_id\": 195\n",
      "}\n",
      "\n"
     ]
    }
   ],
   "source": [
    "connective_words = ['首先', '其次', '然后', '接着', '最后', '总之','总的来说','总而言之','一方面','另一方面']\n",
    "badwords = tokenizer(connective_words, add_special_tokens=False).input_ids\n",
    "model,tokenizer = init_model(badwords=badwords)\n",
    "print(model.generation_config)"
   ]
  },
  {
   "cell_type": "code",
   "execution_count": 12,
   "metadata": {},
   "outputs": [
    {
     "name": "stdout",
     "output_type": "stream",
     "text": [
      "🌟 明星仿妆教程：模仿赵丽颖的甜美妆容 🌟\n",
      "\n",
      "🎉 大家好！我是你们的美妆博主小美，今天我将教大家如何模仿赵丽颖的甜美妆容。接下来让我们开始吧！\n",
      "\n",
      "1️⃣ 底妆：第一步是打造完美的底妆。我们需要选择一款适合我们的粉底液，我用的是雅诗兰黛的双头粉底液，它可以打造出自然的肤色。用化妆海绵均匀涂抹在脸上，遮盖瑕疵和均匀肤色。\n",
      "\n",
      "2️⃣ 遮瑕：接下来我们要用遮瑕膏遮盖黑眼圈和痘印。我用的是NARS的遮瑕膏，它非常适合遮盖瑕疵。用遮瑕刷蘸取适量遮瑕膏，点拍在需要遮盖的地方，然后用手指轻轻拍打，让遮瑕膏更好地融入皮肤。\n",
      "\n",
      "3️⃣ 眼妆：接下来我们开始画眼妆。先用眼影刷蘸取一些大地色眼影，打底整个眼皮。然后用粉色眼影在眼皮中央晕染，增加眼部立体感。再用亮片眼影在眼皮中央和眼头处点缀，增加眼部闪亮感。最后是画眼线，我选择的是棕色的眼线笔，让它更自然。\n",
      "\n",
      "4️⃣ 睫毛：为了让眼睛更有神，我们需要贴双眼皮贴和刷睫毛。我先贴上双眼皮贴，然后用睫毛夹夹翘睫毛，最后再刷上浓密的睫毛膏。\n",
      "\n",
      "5️⃣ 腮红：为了让脸部更有气色，我们需要打腮红。我用的是NARS的腮红，颜色非常自然。将腮红从颧骨处向太阳穴方向轻轻扫去，看到没有？脸部立刻有了红润的感觉！\n",
      "\n",
      "6️⃣ 唇妆：最后是唇妆部分，我用的是YSL的水光唇釉，颜色非常甜美。先将唇部保湿做好，然后将唇釉均匀涂抹在唇部，最后再轻轻抿一下，让唇釉更加服帖。\n",
      "\n",
      "💖 现在，一个甜美的赵丽颖仿妆就完成啦！希望大家喜欢这个教程，也欢迎大家私信我交流美妆心得哦~爱你们！\n"
     ]
    }
   ],
   "source": [
    "prompt =  \"\"\"\n",
    "你是一名小红书上的 美妆 博主，请你制作一篇 明星仿妆 的教程分享。\n",
    "\n",
    "教程步骤： 至少5个步骤 \n",
    "\n",
    "产品清单： 列出所使用的主要产品 \n",
    "\n",
    "平台文风： 小红书 。\n",
    "\n",
    "文案要求： 逻辑清晰，可以适当加一些表情符号。\n",
    "\"\"\"\n",
    "messages = []\n",
    "messages.append({\"role\": \"user\", \"content\": prompt})\n",
    "response = model.chat(tokenizer, messages)\n",
    "print(response)"
   ]
  },
  {
   "cell_type": "code",
   "execution_count": 7,
   "metadata": {},
   "outputs": [
    {
     "data": {
      "text/plain": [
       "True"
      ]
     },
     "execution_count": 7,
     "metadata": {},
     "output_type": "execute_result"
    }
   ],
   "source": [
    "df = pd.read_excel(\"NewPrompt.xlsx\",header=None)\n",
    "df = df.assign(round0_ans = None , round1_ans = None)\n",
    "str(df.iloc[0,1]) == \"nan\""
   ]
  },
  {
   "cell_type": "code",
   "execution_count": null,
   "metadata": {},
   "outputs": [
    {
     "ename": "NameError",
     "evalue": "name 'prompt_list' is not defined",
     "output_type": "error",
     "traceback": [
      "\u001b[0;31m---------------------------------------------------------------------------\u001b[0m",
      "\u001b[0;31mNameError\u001b[0m                                 Traceback (most recent call last)",
      "Cell \u001b[0;32mIn[6], line 3\u001b[0m\n\u001b[1;32m      1\u001b[0m \u001b[39mfor\u001b[39;00m i \u001b[39min\u001b[39;00m \u001b[39mrange\u001b[39m(\u001b[39m100\u001b[39m):\n\u001b[1;32m      2\u001b[0m     messages \u001b[39m=\u001b[39m []\n\u001b[0;32m----> 3\u001b[0m     messages\u001b[39m.\u001b[39mappend({\u001b[39m\"\u001b[39m\u001b[39mrole\u001b[39m\u001b[39m\"\u001b[39m: \u001b[39m\"\u001b[39m\u001b[39muser\u001b[39m\u001b[39m\"\u001b[39m, \u001b[39m\"\u001b[39m\u001b[39mcontent\u001b[39m\u001b[39m\"\u001b[39m: prompt_list[\u001b[39m6\u001b[39m]})\n\u001b[1;32m      4\u001b[0m     response \u001b[39m=\u001b[39m model\u001b[39m.\u001b[39mchat(tokenizer, messages)\n\u001b[1;32m      5\u001b[0m     \u001b[39mprint\u001b[39m(prompt_list[\u001b[39m6\u001b[39m],response)\n",
      "\u001b[0;31mNameError\u001b[0m: name 'prompt_list' is not defined"
     ]
    }
   ],
   "source": [
    "for i in range(len(df)):\n",
    "    messages = []\n",
    "    if str(df.iloc[i,1])  == \"nan\":\n",
    "        messages.append({\"role\": \"user\", \"content\": df.iloc[i,0]})\n",
    "        response = model.chat(tokenizer, messages)\n",
    "        df.iloc[i,2] = response\n",
    "    else:\n",
    "        messages = [history]\n",
    "        messages.append({\"role\": \"user\", \"content\": df.iloc[i,1]})\n",
    "        response,history = model.chat(tokenizer, messages)\n",
    "        df.iloc[i,3] = response\n",
    "df.to_excel(\"NewPromptEval.xlsx\")"
   ]
  },
  {
   "cell_type": "code",
   "execution_count": null,
   "metadata": {},
   "outputs": [],
   "source": []
  }
 ],
 "metadata": {
  "kernelspec": {
   "display_name": "Python 3",
   "language": "python",
   "name": "python3"
  },
  "language_info": {
   "codemirror_mode": {
    "name": "ipython",
    "version": 3
   },
   "file_extension": ".py",
   "mimetype": "text/x-python",
   "name": "python",
   "nbconvert_exporter": "python",
   "pygments_lexer": "ipython3",
   "version": "3.11.5"
  },
  "orig_nbformat": 4
 },
 "nbformat": 4,
 "nbformat_minor": 2
}
